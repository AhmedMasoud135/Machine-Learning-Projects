{
 "cells": [
  {
   "cell_type": "markdown",
   "id": "0e547bd9",
   "metadata": {},
   "source": [
    "<h1> Import The Libraries </h1>"
   ]
  },
  {
   "cell_type": "code",
   "execution_count": 18,
   "id": "6252b9e2",
   "metadata": {},
   "outputs": [],
   "source": [
    "import numpy as np\n",
    "import pandas as pd\n",
    "import matplotlib.pyplot as plt\n",
    "import seaborn as sns\n",
    "import plotly.express as px\n",
    "from sklearn.cluster import KMeans, DBSCAN\n",
    "from sklearn.preprocessing import StandardScaler\n",
    "from sklearn.decomposition import PCA\n",
    "from sklearn.metrics import silhouette_score\n",
    "from scipy.stats import skew\n"
   ]
  },
  {
   "cell_type": "markdown",
   "id": "e75dedb9",
   "metadata": {},
   "source": [
    "<h1> Explore The Data </h1>"
   ]
  },
  {
   "cell_type": "code",
   "execution_count": 2,
   "id": "de59a08c",
   "metadata": {},
   "outputs": [
    {
     "data": {
      "text/html": [
       "<div>\n",
       "<style scoped>\n",
       "    .dataframe tbody tr th:only-of-type {\n",
       "        vertical-align: middle;\n",
       "    }\n",
       "\n",
       "    .dataframe tbody tr th {\n",
       "        vertical-align: top;\n",
       "    }\n",
       "\n",
       "    .dataframe thead th {\n",
       "        text-align: right;\n",
       "    }\n",
       "</style>\n",
       "<table border=\"1\" class=\"dataframe\">\n",
       "  <thead>\n",
       "    <tr style=\"text-align: right;\">\n",
       "      <th></th>\n",
       "      <th>InvoiceNo</th>\n",
       "      <th>StockCode</th>\n",
       "      <th>Description</th>\n",
       "      <th>Quantity</th>\n",
       "      <th>InvoiceDate</th>\n",
       "      <th>UnitPrice</th>\n",
       "      <th>CustomerID</th>\n",
       "      <th>Country</th>\n",
       "    </tr>\n",
       "  </thead>\n",
       "  <tbody>\n",
       "    <tr>\n",
       "      <th>0</th>\n",
       "      <td>536365</td>\n",
       "      <td>85123A</td>\n",
       "      <td>WHITE HANGING HEART T-LIGHT HOLDER</td>\n",
       "      <td>6</td>\n",
       "      <td>2010-12-01 08:26:00</td>\n",
       "      <td>2.55</td>\n",
       "      <td>17850.0</td>\n",
       "      <td>United Kingdom</td>\n",
       "    </tr>\n",
       "    <tr>\n",
       "      <th>1</th>\n",
       "      <td>536365</td>\n",
       "      <td>71053</td>\n",
       "      <td>WHITE METAL LANTERN</td>\n",
       "      <td>6</td>\n",
       "      <td>2010-12-01 08:26:00</td>\n",
       "      <td>3.39</td>\n",
       "      <td>17850.0</td>\n",
       "      <td>United Kingdom</td>\n",
       "    </tr>\n",
       "    <tr>\n",
       "      <th>2</th>\n",
       "      <td>536365</td>\n",
       "      <td>84406B</td>\n",
       "      <td>CREAM CUPID HEARTS COAT HANGER</td>\n",
       "      <td>8</td>\n",
       "      <td>2010-12-01 08:26:00</td>\n",
       "      <td>2.75</td>\n",
       "      <td>17850.0</td>\n",
       "      <td>United Kingdom</td>\n",
       "    </tr>\n",
       "    <tr>\n",
       "      <th>3</th>\n",
       "      <td>536365</td>\n",
       "      <td>84029G</td>\n",
       "      <td>KNITTED UNION FLAG HOT WATER BOTTLE</td>\n",
       "      <td>6</td>\n",
       "      <td>2010-12-01 08:26:00</td>\n",
       "      <td>3.39</td>\n",
       "      <td>17850.0</td>\n",
       "      <td>United Kingdom</td>\n",
       "    </tr>\n",
       "    <tr>\n",
       "      <th>4</th>\n",
       "      <td>536365</td>\n",
       "      <td>84029E</td>\n",
       "      <td>RED WOOLLY HOTTIE WHITE HEART.</td>\n",
       "      <td>6</td>\n",
       "      <td>2010-12-01 08:26:00</td>\n",
       "      <td>3.39</td>\n",
       "      <td>17850.0</td>\n",
       "      <td>United Kingdom</td>\n",
       "    </tr>\n",
       "  </tbody>\n",
       "</table>\n",
       "</div>"
      ],
      "text/plain": [
       "  InvoiceNo StockCode                          Description  Quantity  \\\n",
       "0    536365    85123A   WHITE HANGING HEART T-LIGHT HOLDER         6   \n",
       "1    536365     71053                  WHITE METAL LANTERN         6   \n",
       "2    536365    84406B       CREAM CUPID HEARTS COAT HANGER         8   \n",
       "3    536365    84029G  KNITTED UNION FLAG HOT WATER BOTTLE         6   \n",
       "4    536365    84029E       RED WOOLLY HOTTIE WHITE HEART.         6   \n",
       "\n",
       "          InvoiceDate  UnitPrice  CustomerID         Country  \n",
       "0 2010-12-01 08:26:00       2.55     17850.0  United Kingdom  \n",
       "1 2010-12-01 08:26:00       3.39     17850.0  United Kingdom  \n",
       "2 2010-12-01 08:26:00       2.75     17850.0  United Kingdom  \n",
       "3 2010-12-01 08:26:00       3.39     17850.0  United Kingdom  \n",
       "4 2010-12-01 08:26:00       3.39     17850.0  United Kingdom  "
      ]
     },
     "execution_count": 2,
     "metadata": {},
     "output_type": "execute_result"
    }
   ],
   "source": [
    "df = pd.read_excel('Online Retail.xlsx')\n",
    "df.head()"
   ]
  },
  {
   "cell_type": "code",
   "execution_count": 3,
   "id": "d3e0552b",
   "metadata": {},
   "outputs": [
    {
     "name": "stdout",
     "output_type": "stream",
     "text": [
      "<class 'pandas.core.frame.DataFrame'>\n",
      "RangeIndex: 541909 entries, 0 to 541908\n",
      "Data columns (total 8 columns):\n",
      " #   Column       Non-Null Count   Dtype         \n",
      "---  ------       --------------   -----         \n",
      " 0   InvoiceNo    541909 non-null  object        \n",
      " 1   StockCode    541909 non-null  object        \n",
      " 2   Description  540455 non-null  object        \n",
      " 3   Quantity     541909 non-null  int64         \n",
      " 4   InvoiceDate  541909 non-null  datetime64[ns]\n",
      " 5   UnitPrice    541909 non-null  float64       \n",
      " 6   CustomerID   406829 non-null  float64       \n",
      " 7   Country      541909 non-null  object        \n",
      "dtypes: datetime64[ns](1), float64(2), int64(1), object(4)\n",
      "memory usage: 33.1+ MB\n"
     ]
    }
   ],
   "source": [
    "df.info()"
   ]
  },
  {
   "cell_type": "code",
   "execution_count": 4,
   "id": "fb652ac8",
   "metadata": {},
   "outputs": [
    {
     "data": {
      "text/plain": [
       "InvoiceNo           0\n",
       "StockCode           0\n",
       "Description      1454\n",
       "Quantity            0\n",
       "InvoiceDate         0\n",
       "UnitPrice           0\n",
       "CustomerID     135080\n",
       "Country             0\n",
       "dtype: int64"
      ]
     },
     "execution_count": 4,
     "metadata": {},
     "output_type": "execute_result"
    }
   ],
   "source": [
    "df.isna().sum()"
   ]
  },
  {
   "cell_type": "code",
   "execution_count": 5,
   "id": "1b133397",
   "metadata": {},
   "outputs": [],
   "source": [
    "df.drop_duplicates(inplace=True)"
   ]
  },
  {
   "cell_type": "code",
   "execution_count": 6,
   "id": "772de13e",
   "metadata": {},
   "outputs": [
    {
     "name": "stdout",
     "output_type": "stream",
     "text": [
      "<class 'pandas.core.frame.DataFrame'>\n",
      "Index: 536641 entries, 0 to 541908\n",
      "Data columns (total 8 columns):\n",
      " #   Column       Non-Null Count   Dtype         \n",
      "---  ------       --------------   -----         \n",
      " 0   InvoiceNo    536641 non-null  object        \n",
      " 1   StockCode    536641 non-null  object        \n",
      " 2   Description  535187 non-null  object        \n",
      " 3   Quantity     536641 non-null  int64         \n",
      " 4   InvoiceDate  536641 non-null  datetime64[ns]\n",
      " 5   UnitPrice    536641 non-null  float64       \n",
      " 6   CustomerID   401604 non-null  float64       \n",
      " 7   Country      536641 non-null  object        \n",
      "dtypes: datetime64[ns](1), float64(2), int64(1), object(4)\n",
      "memory usage: 36.8+ MB\n"
     ]
    }
   ],
   "source": [
    "df.info()"
   ]
  },
  {
   "cell_type": "code",
   "execution_count": 7,
   "id": "51adeb29",
   "metadata": {},
   "outputs": [
    {
     "data": {
      "text/html": [
       "<div>\n",
       "<style scoped>\n",
       "    .dataframe tbody tr th:only-of-type {\n",
       "        vertical-align: middle;\n",
       "    }\n",
       "\n",
       "    .dataframe tbody tr th {\n",
       "        vertical-align: top;\n",
       "    }\n",
       "\n",
       "    .dataframe thead th {\n",
       "        text-align: right;\n",
       "    }\n",
       "</style>\n",
       "<table border=\"1\" class=\"dataframe\">\n",
       "  <thead>\n",
       "    <tr style=\"text-align: right;\">\n",
       "      <th></th>\n",
       "      <th>Quantity</th>\n",
       "      <th>UnitPrice</th>\n",
       "      <th>CustomerID</th>\n",
       "    </tr>\n",
       "  </thead>\n",
       "  <tbody>\n",
       "    <tr>\n",
       "      <th>count</th>\n",
       "      <td>536641.000000</td>\n",
       "      <td>536641.000000</td>\n",
       "      <td>401604.000000</td>\n",
       "    </tr>\n",
       "    <tr>\n",
       "      <th>mean</th>\n",
       "      <td>9.620029</td>\n",
       "      <td>4.632656</td>\n",
       "      <td>15281.160818</td>\n",
       "    </tr>\n",
       "    <tr>\n",
       "      <th>std</th>\n",
       "      <td>219.130156</td>\n",
       "      <td>97.233118</td>\n",
       "      <td>1714.006089</td>\n",
       "    </tr>\n",
       "    <tr>\n",
       "      <th>min</th>\n",
       "      <td>-80995.000000</td>\n",
       "      <td>-11062.060000</td>\n",
       "      <td>12346.000000</td>\n",
       "    </tr>\n",
       "    <tr>\n",
       "      <th>25%</th>\n",
       "      <td>1.000000</td>\n",
       "      <td>1.250000</td>\n",
       "      <td>13939.000000</td>\n",
       "    </tr>\n",
       "    <tr>\n",
       "      <th>50%</th>\n",
       "      <td>3.000000</td>\n",
       "      <td>2.080000</td>\n",
       "      <td>15145.000000</td>\n",
       "    </tr>\n",
       "    <tr>\n",
       "      <th>75%</th>\n",
       "      <td>10.000000</td>\n",
       "      <td>4.130000</td>\n",
       "      <td>16784.000000</td>\n",
       "    </tr>\n",
       "    <tr>\n",
       "      <th>max</th>\n",
       "      <td>80995.000000</td>\n",
       "      <td>38970.000000</td>\n",
       "      <td>18287.000000</td>\n",
       "    </tr>\n",
       "  </tbody>\n",
       "</table>\n",
       "</div>"
      ],
      "text/plain": [
       "            Quantity      UnitPrice     CustomerID\n",
       "count  536641.000000  536641.000000  401604.000000\n",
       "mean        9.620029       4.632656   15281.160818\n",
       "std       219.130156      97.233118    1714.006089\n",
       "min    -80995.000000  -11062.060000   12346.000000\n",
       "25%         1.000000       1.250000   13939.000000\n",
       "50%         3.000000       2.080000   15145.000000\n",
       "75%        10.000000       4.130000   16784.000000\n",
       "max     80995.000000   38970.000000   18287.000000"
      ]
     },
     "execution_count": 7,
     "metadata": {},
     "output_type": "execute_result"
    }
   ],
   "source": [
    "numeric_df = df.select_dtypes(include=['int64', 'float64'])\n",
    "numeric_df.describe()"
   ]
  },
  {
   "cell_type": "code",
   "execution_count": 12,
   "id": "93e69409",
   "metadata": {},
   "outputs": [
    {
     "name": "stdout",
     "output_type": "stream",
     "text": [
      "<class 'pandas.core.frame.DataFrame'>\n",
      "Index: 392692 entries, 0 to 541908\n",
      "Data columns (total 8 columns):\n",
      " #   Column       Non-Null Count   Dtype         \n",
      "---  ------       --------------   -----         \n",
      " 0   InvoiceNo    392692 non-null  object        \n",
      " 1   StockCode    392692 non-null  object        \n",
      " 2   Description  392692 non-null  object        \n",
      " 3   Quantity     392692 non-null  int64         \n",
      " 4   InvoiceDate  392692 non-null  datetime64[ns]\n",
      " 5   UnitPrice    392692 non-null  float64       \n",
      " 6   CustomerID   392692 non-null  float64       \n",
      " 7   Country      392692 non-null  object        \n",
      "dtypes: datetime64[ns](1), float64(2), int64(1), object(4)\n",
      "memory usage: 27.0+ MB\n"
     ]
    }
   ],
   "source": [
    "df = df[(df[\"Quantity\"] > 0) & (df[\"UnitPrice\"] > 0)]\n",
    "df.dropna(inplace=True)\n",
    "df.info()"
   ]
  },
  {
   "cell_type": "code",
   "execution_count": 13,
   "id": "6464d091",
   "metadata": {},
   "outputs": [],
   "source": [
    "df['TotalAmount'] = df['Quantity'] * df['UnitPrice']\n",
    "df.drop(columns=[\"Quantity\",\"UnitPrice\"],inplace=True)"
   ]
  },
  {
   "cell_type": "code",
   "execution_count": null,
   "id": "d3dd9300",
   "metadata": {},
   "outputs": [
    {
     "name": "stdout",
     "output_type": "stream",
     "text": [
      "Skewness of TotalAmount: 448.52\n"
     ]
    }
   ],
   "source": [
    "# Calculate skewness\n",
    "skew_value = skew(df['TotalAmount'])\n",
    "print(f\"Skewness of TotalAmount: {skew_value:.2f}\")"
   ]
  },
  {
   "cell_type": "code",
   "execution_count": 37,
   "id": "5be6ccf7",
   "metadata": {},
   "outputs": [],
   "source": [
    "# Clip\n",
    "q_low = df['TotalAmount'].quantile(0.1)\n",
    "q_high = df['TotalAmount'].quantile(0.9)\n",
    "df['TotalAmount'] = df['TotalAmount'].clip(q_low, q_high)"
   ]
  },
  {
   "cell_type": "code",
   "execution_count": 38,
   "id": "c9882f02",
   "metadata": {},
   "outputs": [
    {
     "name": "stdout",
     "output_type": "stream",
     "text": [
      "Skewness of TotalAmount: 0.78\n"
     ]
    }
   ],
   "source": [
    "# Calculate skewness\n",
    "skew_value = skew(df['TotalAmount'])\n",
    "print(f\"Skewness of TotalAmount: {skew_value:.2f}\")"
   ]
  },
  {
   "cell_type": "code",
   "execution_count": 40,
   "id": "1779d4f7",
   "metadata": {},
   "outputs": [
    {
     "data": {
      "image/png": "[encoded data removed]",
      "text/plain": [
       "<Figure size 640x480 with 1 Axes>"
      ]
     },
     "metadata": {},
     "output_type": "display_data"
    }
   ],
   "source": [
    "# Plot Histogram\n",
    "sns.histplot(df['TotalAmount'], bins=30, kde=True)  \n",
    "plt.show()"
   ]
  },
  {
   "cell_type": "code",
   "execution_count": 41,
   "id": "119af8ab",
   "metadata": {},
   "outputs": [
    {
     "data": {
      "text/plain": [
       "count    392692.000000\n",
       "mean         13.961420\n",
       "std          10.502758\n",
       "min           2.080000\n",
       "25%           4.950000\n",
       "50%          12.450000\n",
       "75%          19.800000\n",
       "max          35.400000\n",
       "Name: TotalAmount, dtype: float64"
      ]
     },
     "execution_count": 41,
     "metadata": {},
     "output_type": "execute_result"
    }
   ],
   "source": [
    "df[\"TotalAmount\"].describe()"
   ]
  },
  {
   "cell_type": "code",
   "execution_count": 14,
   "id": "39b71701",
   "metadata": {},
   "outputs": [
    {
     "name": "stdout",
     "output_type": "stream",
     "text": [
      "InvoiceNo\n",
      "576339    542\n",
      "579196    533\n",
      "580727    529\n",
      "578270    442\n",
      "573576    435\n",
      "         ... \n",
      "544170      1\n",
      "556842      1\n",
      "556831      1\n",
      "556817      1\n",
      "542591      1\n",
      "Name: count, Length: 18532, dtype: int64\n",
      "StockCode\n",
      "85123A    2023\n",
      "22423     1713\n",
      "85099B    1615\n",
      "84879     1395\n",
      "47566     1389\n",
      "          ... \n",
      "90059A       1\n",
      "20678        1\n",
      "90059D       1\n",
      "90168        1\n",
      "23843        1\n",
      "Name: count, Length: 3665, dtype: int64\n",
      "Description\n",
      "WHITE HANGING HEART T-LIGHT HOLDER    2016\n",
      "REGENCY CAKESTAND 3 TIER              1713\n",
      "JUMBO BAG RED RETROSPOT               1615\n",
      "ASSORTED COLOUR BIRD ORNAMENT         1395\n",
      "PARTY BUNTING                         1389\n",
      "                                      ... \n",
      "GREEN WITH METAL BAG CHARM               1\n",
      "WHITE WITH METAL BAG CHARM               1\n",
      "BLUE/NAT SHELL NECKLACE W PENDANT        1\n",
      "PINK EASTER HENS+FLOWER                  1\n",
      "PAPER CRAFT , LITTLE BIRDIE              1\n",
      "Name: count, Length: 3877, dtype: int64\n",
      "Country\n",
      "United Kingdom          349203\n",
      "Germany                   9025\n",
      "France                    8326\n",
      "EIRE                      7226\n",
      "Spain                     2479\n",
      "Netherlands               2359\n",
      "Belgium                   2031\n",
      "Switzerland               1841\n",
      "Portugal                  1453\n",
      "Australia                 1181\n",
      "Norway                    1071\n",
      "Italy                      758\n",
      "Channel Islands            747\n",
      "Finland                    685\n",
      "Cyprus                     603\n",
      "Sweden                     450\n",
      "Austria                    398\n",
      "Denmark                    380\n",
      "Poland                     330\n",
      "Japan                      321\n",
      "Israel                     245\n",
      "Unspecified                241\n",
      "Singapore                  222\n",
      "Iceland                    182\n",
      "USA                        179\n",
      "Canada                     151\n",
      "Greece                     145\n",
      "Malta                      112\n",
      "United Arab Emirates        68\n",
      "European Community          60\n",
      "RSA                         57\n",
      "Lebanon                     45\n",
      "Lithuania                   35\n",
      "Brazil                      32\n",
      "Czech Republic              25\n",
      "Bahrain                     17\n",
      "Saudi Arabia                 9\n",
      "Name: count, dtype: int64\n"
     ]
    }
   ],
   "source": [
    "for col in df.select_dtypes(include=\"object\"):\n",
    "    print(df[col].value_counts())"
   ]
  },
  {
   "cell_type": "code",
   "execution_count": 15,
   "id": "f3ba94c9",
   "metadata": {},
   "outputs": [
    {
     "data": {
      "text/plain": [
       "Timestamp('2011-12-10 12:50:00')"
      ]
     },
     "execution_count": 15,
     "metadata": {},
     "output_type": "execute_result"
    }
   ],
   "source": [
    "reference_date = df['InvoiceDate'].max() + pd.Timedelta(days=1)\n",
    "reference_date"
   ]
  },
  {
   "cell_type": "code",
   "execution_count": 42,
   "id": "647da088",
   "metadata": {},
   "outputs": [
    {
     "data": {
      "text/html": [
       "<div>\n",
       "<style scoped>\n",
       "    .dataframe tbody tr th:only-of-type {\n",
       "        vertical-align: middle;\n",
       "    }\n",
       "\n",
       "    .dataframe tbody tr th {\n",
       "        vertical-align: top;\n",
       "    }\n",
       "\n",
       "    .dataframe thead th {\n",
       "        text-align: right;\n",
       "    }\n",
       "</style>\n",
       "<table border=\"1\" class=\"dataframe\">\n",
       "  <thead>\n",
       "    <tr style=\"text-align: right;\">\n",
       "      <th></th>\n",
       "      <th>CustomerID</th>\n",
       "      <th>Recency</th>\n",
       "      <th>Frequency</th>\n",
       "      <th>Monetary</th>\n",
       "    </tr>\n",
       "  </thead>\n",
       "  <tbody>\n",
       "    <tr>\n",
       "      <th>0</th>\n",
       "      <td>12346.0</td>\n",
       "      <td>326</td>\n",
       "      <td>1</td>\n",
       "      <td>35.40</td>\n",
       "    </tr>\n",
       "    <tr>\n",
       "      <th>1</th>\n",
       "      <td>12347.0</td>\n",
       "      <td>2</td>\n",
       "      <td>7</td>\n",
       "      <td>3646.97</td>\n",
       "    </tr>\n",
       "    <tr>\n",
       "      <th>2</th>\n",
       "      <td>12348.0</td>\n",
       "      <td>75</td>\n",
       "      <td>4</td>\n",
       "      <td>960.68</td>\n",
       "    </tr>\n",
       "    <tr>\n",
       "      <th>3</th>\n",
       "      <td>12349.0</td>\n",
       "      <td>19</td>\n",
       "      <td>1</td>\n",
       "      <td>1388.60</td>\n",
       "    </tr>\n",
       "    <tr>\n",
       "      <th>4</th>\n",
       "      <td>12350.0</td>\n",
       "      <td>310</td>\n",
       "      <td>1</td>\n",
       "      <td>329.80</td>\n",
       "    </tr>\n",
       "  </tbody>\n",
       "</table>\n",
       "</div>"
      ],
      "text/plain": [
       "   CustomerID  Recency  Frequency  Monetary\n",
       "0     12346.0      326          1     35.40\n",
       "1     12347.0        2          7   3646.97\n",
       "2     12348.0       75          4    960.68\n",
       "3     12349.0       19          1   1388.60\n",
       "4     12350.0      310          1    329.80"
      ]
     },
     "execution_count": 42,
     "metadata": {},
     "output_type": "execute_result"
    }
   ],
   "source": [
    "rfm = df.groupby('CustomerID').agg({\n",
    "    'InvoiceDate': lambda x: (reference_date - x.max()).days,  # Recency\n",
    "    'InvoiceNo': 'nunique',                                    # Frequency\n",
    "    'TotalAmount': 'sum'                                       # Monetary\n",
    "}).reset_index()\n",
    "\n",
    "rfm.columns = ['CustomerID', 'Recency', 'Frequency', 'Monetary']\n",
    "rfm.head()"
   ]
  },
  {
   "cell_type": "code",
   "execution_count": 62,
   "id": "cb527c96",
   "metadata": {},
   "outputs": [],
   "source": [
    "X_scaled = StandardScaler().fit_transform(rfm)"
   ]
  },
  {
   "cell_type": "markdown",
   "id": "81c6a017",
   "metadata": {},
   "source": [
    "<h1> Apply KMeans </h1>"
   ]
  },
  {
   "cell_type": "code",
   "execution_count": 63,
   "id": "9cc5263c",
   "metadata": {},
   "outputs": [],
   "source": [
    "# Selecting the optimal number of clusters using Elbow Method and Silhouette Scores\n",
    "k_range = range(1, 15)\n",
    "inertia = []\n",
    "silhouette_scores = []\n",
    "\n",
    "\n",
    "for k in k_range:\n",
    "    kmeans = KMeans(n_clusters=k, random_state=42)\n",
    "    kmeans.fit(X_scaled)\n",
    "    inertia.append(kmeans.inertia_)\n",
    "    \n",
    "    # Calculate silhouette score (only for k > 1)\n",
    "    if k > 1:\n",
    "        score = silhouette_score(X_scaled, kmeans.labels_)\n",
    "        silhouette_scores.append(score)\n",
    "    else:\n",
    "        silhouette_scores.append(0)\n"
   ]
  },
  {
   "cell_type": "code",
   "execution_count": 64,
   "id": "1e595c61",
   "metadata": {},
   "outputs": [
    {
     "data": {
      "text/plain": [
       "([<matplotlib.axis.XTick at 0x1b6ebc5dbe0>,\n",
       "  <matplotlib.axis.XTick at 0x1b6ebf16690>,\n",
       "  <matplotlib.axis.XTick at 0x1b6ebd36240>,\n",
       "  <matplotlib.axis.XTick at 0x1b6ebcd11c0>,\n",
       "  <matplotlib.axis.XTick at 0x1b6ebe8ae40>,\n",
       "  <matplotlib.axis.XTick at 0x1b6ebe8b260>,\n",
       "  <matplotlib.axis.XTick at 0x1b6ebe8bb60>,\n",
       "  <matplotlib.axis.XTick at 0x1b6ed3883e0>,\n",
       "  <matplotlib.axis.XTick at 0x1b6ed388980>,\n",
       "  <matplotlib.axis.XTick at 0x1b6ed389640>,\n",
       "  <matplotlib.axis.XTick at 0x1b6ebe8b530>,\n",
       "  <matplotlib.axis.XTick at 0x1b6ed3886b0>,\n",
       "  <matplotlib.axis.XTick at 0x1b6ed38a600>,\n",
       "  <matplotlib.axis.XTick at 0x1b6ed38ae40>],\n",
       " [Text(1, 0, '1'),\n",
       "  Text(2, 0, '2'),\n",
       "  Text(3, 0, '3'),\n",
       "  Text(4, 0, '4'),\n",
       "  Text(5, 0, '5'),\n",
       "  Text(6, 0, '6'),\n",
       "  Text(7, 0, '7'),\n",
       "  Text(8, 0, '8'),\n",
       "  Text(9, 0, '9'),\n",
       "  Text(10, 0, '10'),\n",
       "  Text(11, 0, '11'),\n",
       "  Text(12, 0, '12'),\n",
       "  Text(13, 0, '13'),\n",
       "  Text(14, 0, '14')])"
      ]
     },
     "execution_count": 64,
     "metadata": {},
     "output_type": "execute_result"
    },
    {
     "data": {
      "image/png": "[encoded data removed]",
      "text/plain": [
       "<Figure size 1500x500 with 1 Axes>"
      ]
     },
     "metadata": {},
     "output_type": "display_data"
    }
   ],
   "source": [
    "# Plot Elbow Curve\n",
    "plt.figure(figsize=(15, 5))\n",
    "\n",
    "plt.plot(k_range, inertia, 'bo-', linewidth=2, markersize=8)\n",
    "plt.title('Elbow Method for Optimal k', fontsize=14, fontweight='bold')\n",
    "plt.xlabel('Number of Clusters (k)', fontsize=12)\n",
    "plt.ylabel('Within-Cluster Sum of Squares (WCSS)', fontsize=12)\n",
    "plt.grid(True, alpha=0.3)\n",
    "plt.xticks(k_range)"
   ]
  },
  {
   "cell_type": "code",
   "execution_count": 65,
   "id": "c2740b3c",
   "metadata": {},
   "outputs": [
    {
     "data": {
      "text/plain": [
       "([<matplotlib.axis.XTick at 0x1b6ed338c50>,\n",
       "  <matplotlib.axis.XTick at 0x1b6ed33ab40>,\n",
       "  <matplotlib.axis.XTick at 0x1b6ed339700>,\n",
       "  <matplotlib.axis.XTick at 0x1b6ebf166f0>,\n",
       "  <matplotlib.axis.XTick at 0x1b6ed337980>,\n",
       "  <matplotlib.axis.XTick at 0x1b6ed3373b0>,\n",
       "  <matplotlib.axis.XTick at 0x1b6ed2fc5c0>,\n",
       "  <matplotlib.axis.XTick at 0x1b6ed2fcf50>,\n",
       "  <matplotlib.axis.XTick at 0x1b6ed2fd7c0>,\n",
       "  <matplotlib.axis.XTick at 0x1b6ed2fe090>,\n",
       "  <matplotlib.axis.XTick at 0x1b6ed377b00>,\n",
       "  <matplotlib.axis.XTick at 0x1b6ed2fd130>,\n",
       "  <matplotlib.axis.XTick at 0x1b6ed2ff020>,\n",
       "  <matplotlib.axis.XTick at 0x1b6ed2ff950>],\n",
       " [Text(1, 0, '1'),\n",
       "  Text(2, 0, '2'),\n",
       "  Text(3, 0, '3'),\n",
       "  Text(4, 0, '4'),\n",
       "  Text(5, 0, '5'),\n",
       "  Text(6, 0, '6'),\n",
       "  Text(7, 0, '7'),\n",
       "  Text(8, 0, '8'),\n",
       "  Text(9, 0, '9'),\n",
       "  Text(10, 0, '10'),\n",
       "  Text(11, 0, '11'),\n",
       "  Text(12, 0, '12'),\n",
       "  Text(13, 0, '13'),\n",
       "  Text(14, 0, '14')])"
      ]
     },
     "execution_count": 65,
     "metadata": {},
     "output_type": "execute_result"
    },
    {
     "data": {
      "image/png": "[encoded data removed]",
      "text/plain": [
       "<Figure size 1500x500 with 1 Axes>"
      ]
     },
     "metadata": {},
     "output_type": "display_data"
    }
   ],
   "source": [
    "# Plot Silhouette Scores\n",
    "plt.figure(figsize=(15, 5))\n",
    "plt.plot(k_range, silhouette_scores, 'bo-', linewidth=2, markersize=8)\n",
    "plt.title('Silhouette Score vs Number of Clusters', fontsize=14, fontweight='bold')\n",
    "plt.xlabel('Number of Clusters (k)', fontsize=12)\n",
    "plt.ylabel('Silhouette Score', fontsize=12)\n",
    "plt.grid(True, alpha=0.3)\n",
    "plt.xticks(k_range)"
   ]
  },
  {
   "cell_type": "code",
   "execution_count": null,
   "id": "ed2acf03",
   "metadata": {},
   "outputs": [],
   "source": [
    "# The best k from KMeans are 4"
   ]
  },
  {
   "cell_type": "code",
   "execution_count": null,
   "id": "80514c0d",
   "metadata": {},
   "outputs": [],
   "source": []
  },
  {
   "cell_type": "markdown",
   "id": "5c4cd6e3",
   "metadata": {},
   "source": [
    "<h1> Apply DBSCAN </h1>"
   ]
  },
  {
   "cell_type": "code",
   "execution_count": 94,
   "id": "ca80ef98",
   "metadata": {},
   "outputs": [],
   "source": [
    "# Run DBSCAN\n",
    "dbscan = DBSCAN(eps=1.5, min_samples=3)\n",
    "labels = dbscan.fit_predict(X_scaled)"
   ]
  },
  {
   "cell_type": "code",
   "execution_count": 95,
   "id": "ae75d0d4",
   "metadata": {},
   "outputs": [
    {
     "data": {
      "text/plain": [
       "4"
      ]
     },
     "execution_count": 95,
     "metadata": {},
     "output_type": "execute_result"
    }
   ],
   "source": [
    "len(set(labels))  # Number of clusters found (including noise if any)"
   ]
  },
  {
   "cell_type": "code",
   "execution_count": 96,
   "id": "6e92ca24",
   "metadata": {},
   "outputs": [
    {
     "data": {
      "text/plain": [
       " 0    4311\n",
       "-1      15\n",
       " 2       9\n",
       " 1       3\n",
       "Name: count, dtype: int64"
      ]
     },
     "execution_count": 96,
     "metadata": {},
     "output_type": "execute_result"
    }
   ],
   "source": [
    "pd.Series(labels).value_counts()"
   ]
  },
  {
   "cell_type": "code",
   "execution_count": null,
   "id": "cd3c3077",
   "metadata": {},
   "outputs": [],
   "source": [
    "# from DBSCAN we can say that we have 4 clusters"
   ]
  },
  {
   "cell_type": "markdown",
   "id": "141b4b33",
   "metadata": {},
   "source": [
    "<h1> Final Model </h1>"
   ]
  },
  {
   "cell_type": "code",
   "execution_count": 102,
   "id": "1b7b0b0d",
   "metadata": {},
   "outputs": [
    {
     "data": {
      "text/plain": [
       "array([2, 0, 0, ..., 1, 1, 1])"
      ]
     },
     "execution_count": 102,
     "metadata": {},
     "output_type": "execute_result"
    }
   ],
   "source": [
    "kmeans = KMeans(n_clusters=4, random_state=42)\n",
    "labels = kmeans.fit_predict(X_scaled)\n",
    "labels"
   ]
  },
  {
   "cell_type": "code",
   "execution_count": 99,
   "id": "b39d141d",
   "metadata": {},
   "outputs": [],
   "source": [
    "pca = PCA(n_components=3)\n",
    "X_pca = pca.fit_transform(X_scaled)"
   ]
  },
  {
   "cell_type": "code",
   "execution_count": 101,
   "id": "fc1a6b51",
   "metadata": {},
   "outputs": [
    {
     "data": {
      "text/html": [
       "<div>\n",
       "<style scoped>\n",
       "    .dataframe tbody tr th:only-of-type {\n",
       "        vertical-align: middle;\n",
       "    }\n",
       "\n",
       "    .dataframe tbody tr th {\n",
       "        vertical-align: top;\n",
       "    }\n",
       "\n",
       "    .dataframe thead th {\n",
       "        text-align: right;\n",
       "    }\n",
       "</style>\n",
       "<table border=\"1\" class=\"dataframe\">\n",
       "  <thead>\n",
       "    <tr style=\"text-align: right;\">\n",
       "      <th></th>\n",
       "      <th>PCA1</th>\n",
       "      <th>PCA2</th>\n",
       "      <th>PCA3</th>\n",
       "      <th>Cluster</th>\n",
       "    </tr>\n",
       "  </thead>\n",
       "  <tbody>\n",
       "    <tr>\n",
       "      <th>0</th>\n",
       "      <td>-1.280345</td>\n",
       "      <td>-1.919404</td>\n",
       "      <td>1.844157</td>\n",
       "      <td>2</td>\n",
       "    </tr>\n",
       "    <tr>\n",
       "      <th>1</th>\n",
       "      <td>1.157533</td>\n",
       "      <td>-1.627072</td>\n",
       "      <td>-0.677323</td>\n",
       "      <td>0</td>\n",
       "    </tr>\n",
       "    <tr>\n",
       "      <th>2</th>\n",
       "      <td>0.051932</td>\n",
       "      <td>-1.691977</td>\n",
       "      <td>-0.328210</td>\n",
       "      <td>0</td>\n",
       "    </tr>\n",
       "    <tr>\n",
       "      <th>3</th>\n",
       "      <td>0.080412</td>\n",
       "      <td>-1.661562</td>\n",
       "      <td>-0.896762</td>\n",
       "      <td>0</td>\n",
       "    </tr>\n",
       "    <tr>\n",
       "      <th>4</th>\n",
       "      <td>-1.160084</td>\n",
       "      <td>-1.904825</td>\n",
       "      <td>1.722065</td>\n",
       "      <td>2</td>\n",
       "    </tr>\n",
       "    <tr>\n",
       "      <th>...</th>\n",
       "      <td>...</td>\n",
       "      <td>...</td>\n",
       "      <td>...</td>\n",
       "      <td>...</td>\n",
       "    </tr>\n",
       "    <tr>\n",
       "      <th>4333</th>\n",
       "      <td>-1.246607</td>\n",
       "      <td>1.551818</td>\n",
       "      <td>1.668593</td>\n",
       "      <td>2</td>\n",
       "    </tr>\n",
       "    <tr>\n",
       "      <th>4334</th>\n",
       "      <td>-0.933139</td>\n",
       "      <td>1.635863</td>\n",
       "      <td>0.754074</td>\n",
       "      <td>1</td>\n",
       "    </tr>\n",
       "    <tr>\n",
       "      <th>4335</th>\n",
       "      <td>-0.226689</td>\n",
       "      <td>1.789311</td>\n",
       "      <td>-0.823284</td>\n",
       "      <td>1</td>\n",
       "    </tr>\n",
       "    <tr>\n",
       "      <th>4336</th>\n",
       "      <td>1.472331</td>\n",
       "      <td>1.857656</td>\n",
       "      <td>-0.265708</td>\n",
       "      <td>1</td>\n",
       "    </tr>\n",
       "    <tr>\n",
       "      <th>4337</th>\n",
       "      <td>0.027328</td>\n",
       "      <td>1.761282</td>\n",
       "      <td>-0.347775</td>\n",
       "      <td>1</td>\n",
       "    </tr>\n",
       "  </tbody>\n",
       "</table>\n",
       "<p>4338 rows × 4 columns</p>\n",
       "</div>"
      ],
      "text/plain": [
       "          PCA1      PCA2      PCA3 Cluster\n",
       "0    -1.280345 -1.919404  1.844157       2\n",
       "1     1.157533 -1.627072 -0.677323       0\n",
       "2     0.051932 -1.691977 -0.328210       0\n",
       "3     0.080412 -1.661562 -0.896762       0\n",
       "4    -1.160084 -1.904825  1.722065       2\n",
       "...        ...       ...       ...     ...\n",
       "4333 -1.246607  1.551818  1.668593       2\n",
       "4334 -0.933139  1.635863  0.754074       1\n",
       "4335 -0.226689  1.789311 -0.823284       1\n",
       "4336  1.472331  1.857656 -0.265708       1\n",
       "4337  0.027328  1.761282 -0.347775       1\n",
       "\n",
       "[4338 rows x 4 columns]"
      ]
     },
     "execution_count": 101,
     "metadata": {},
     "output_type": "execute_result"
    }
   ],
   "source": [
    "df_pca = pd.DataFrame(X_pca, columns=['PCA1', 'PCA2', 'PCA3'])\n",
    "df_pca['Cluster'] = labels.astype(str)  \n",
    "df_pca"
   ]
  },
  {
   "cell_type": "code",
   "execution_count": 104,
   "id": "d2c7241a",
   "metadata": {},
   "outputs": [
    {
     "data": {
      "application/vnd.plotly.v1+json": {
       "config": {
        "plotlyServerURL": "https://plot.ly"
       },
       "data": [
        {
         "hovertemplate": "Cluster=2<br>PCA1=%{x}<br>PCA2=%{y}<br>PCA3=%{z}<extra></extra>",
         "legendgroup": "2",
         "marker": {
          "color": "#636efa",
          "opacity": 0.7,
          "symbol": "circle"
         },
         "mode": "markers",
         "name": "2",
         "scene": "scene",
         "showlegend": true,
         "type": "scatter3d",
         "x": {
          "bdata": "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",
          "dtype": "f8"
         },
         "y": {
          "bdata": "V98wbeG1/r8+X6ZMKnr+vx9vAZXD+vy/IPC0plpt/b9ch1TS8R39v/fxTCzADP6/mcfH17r+/b9frvkBqEf+v4a1Yo8mTP6/F2FcjU5w/r/T/YhXAOT9v81pLEaDKv6/1jRDeFzX/b936/TNmXP8v43TzuZ6N/y/6D3/C09n/r8x+XPZYaz8vyPttswvjP2/kYf6KG6V/b81/O+z9vX7v+ita4nsovy/RfybLepr/L859XAAyYn9vyRa4VflBvu/+7chOilD/b+OS2Kb23r8vwWx9FombPy/Z25PmdDV+7+sBuWXxy/8v0Z4QGIKRPu/84ePqoB6/L/3sGb0Z377vwMRMT/sR/u/yx6OO9FH+78FhZcbIvr6v0gq6YFvWfy/qjebr4yY+79FQWzduuH6v9FRg8nve/u/2zNWLpGf+r+f+cFuYdb6v3iHv3+tBPy/jjjphjgC/L+uzxrdeL/7v5Z7l2g4w/u/AdN5efQy/L+okEHiBOn5vwNgIMis8fq/nBwpZ2LZ+7+2BTFAG+X5v5iQ4gCsfvu/viMC9Qvu+r9lfTV76zT7vz5/fpIeufu/bQ8E49qT+b+FN2qFGzr6v4hsHHQsz/q/qYpNctCp+b/4QIDxfT75v53EUGNXMPu/Pu4pPXzK+L8WzLuoiUD7v7gKqZ2yqvm/T/BUDBGm+r9NGX/ZTxr7v60h1Ieonvi/2BSCJ7Ri+b/+dHOOtr75vymmsuSgf/m/8Q3COajJ+L9iOqTsplL6v0Dapnp3XPm/7t3NswGh+b+w+8N7MAr5v1thjtJpoPm/XFx7+jml+r+WYav+l2b4vxiCzrI/Wfm/UsmWHu7Q+b9jLuK0wz35v6gtN9f9iPi/r8BmAbsV+b9cnDkDmhb4v5RPjddTlve/MrEQiCPh97/AMxo9db34v8thLGzNIfm/GFlq9DCu+L8ASayNpMz4vxHjiz7xXPm/T+QXSkgo978CWhaP2ln3v1ald33lt/e/LGwpZf1X+L8nulECtr/2v6n+qPoCivi/oBTneHiP+L+v95c2iDD5vzCaQI6jyvi/9jKd2jiQ97/ZDyVUA9D3v79jIjUApPa/FNc22+gU978jS1KukSP3vyrP3YM8Qfa/4O7ZKDq3+L8gSmCKVTH2v9aKL+yiMve/o0zPIffo9b8MyH+hndX2vzfPDk3RePa/1nK8hmhS+L9yI+RO8lv2v9TkttDCx/a/Y1gn59uQ9r+eDN9whaP2v/ner5xXpfW/teansoht979L1Gqnj/L2vyH2icLN//a/Gp6yA9iQ9r8zhAtCuyf2vzaZzNzsGPe/aKnWbqDg9b8Fp5O/EGr1vwAdNR7WyvS/GdgpIqLZ9b/Pl2z8K+D0v6xKX8LWLvW/49J5c7/+9L8YEiqXdpj1v/42eVyJxfS/igi8/wBn9b90k/ll0GL1v/oNxAjZtfa/NaKKhVMd9r/yvlVTAQ/0v7mFI/jlaPa/9ZDZlWUb9b+yE1iIAjb2vytW7PAPh/W/delfD5Hg879iVCPlYav0vxx7IwQvfPO/GuWDip/59L8faToMTnX0v9eF56Y8mfS/ekoUENBE9L+bbk2satD1v80rJcQz7PW/IX2jLHeG9L8pfmrO8TD1vwYPq+qdX/O/pEMaivQY878m+EBEUy3zv4LYopSmpfO/DVJ3frx68787e+uTemXzv73di3lPbfK//bjtnlQP8780ypy+ZETyv+QWjnUDPfK/40P2oAV08r9PLmS9Lu3yvyeQbFiiCPO/O7JD+iHu8r/dA7nRTlXzv+LOZWS06/O/CY5wF8Fp87+rqZq98ZTzv3BHGtJDyvO/G/n+5DPY8r8ufkp3Ew3zv3tWhr8wCvK/PY/LPuue8b9YnS0ZwHjzv12br+ZG+PG/7lZIr/ZS8b/CwLZ4S0Tyv2X3Bcxry/G/5lyzBUAP87/xDfoCsAHzvwZxlaiY7vK/fO/tsJbn8r+VSBa3uN/wvwkGwk0w4/G/HtdDBgA98b+7kEXyuKXxvymjIeni8vC/SyLqEOqG8L+i9kC8ugbyv92pFYxhc/C/ZL0RNebJ8b+nfy2JI1zwv+IoshE5DPK/JHavfk/W8b+mzjWswEjxvyG7VWitYPG/pWBPiMuM8L/zCUa3zgHxv73NTD9zK/G/thziHcRD8b+/XYfWZtrwv5iWnsmrffC/PLOqWoZk8L8y2ojWYiPwv7fNPgQErfC/8pyi0a0W77/XfyQbQmjyv1HAewjHM/G/FJIpuUw58b83VAV46yjwv3JOAFCNavC/DEW4BTv28b+nYhlCghTxv0pQWNhrR/C/XUU1TCrD8b8uzL2n8+Xwv65WZ4MwJ+6/FRt90Syo8L/mWFTrxvTtvzV1A/I2ZO2/affw3uST7r8X3ZX0R8PvvwrYCfLj4Oy/+tZBLyG68L/gPzvhvELvvyD9ToKsCfG/x7kjSawY7b/voiRbbZ7tv54APX2sDPC/2B2+dthc8L8tA+VNHoPsv3ODdkJMf/C/Q0SJ9sKz678F8U9CY0Xvv0OyalL3c+6/I+zUjTYP7L/rXNDQxLTrvw4oSX3KX/C/Nar4TmZg67+Yg/9fcAvtv1ODtFOJl+6/Eihv6QFI7r/QjfhrCArsv0oOKbEe9Ou/xCgeFsa867/GrhwYhxTrv9QAlunxU+2/bj79/MW167+5gqyuWh/tvzedCwYX4Om/wSx7CVVv7L+/ARHHH9bsv6RmNe9Pau2/NRCJMx4i7L/I8lY4OgDsv6rIlzGbbu2/OsAA3NOh7L9FHxbRomTuv1w6Df6HIO2/PaJ7kHMQ6L/TqqAxnq3qvy6sMCd4Keu/23asEpRK7L9EzJTAlIXtv1Ryk3w7kem/bnBRuXtA6b+m4EECcZHpv3OAzDx4Uuq/T05k3d2m6L8a/8mOX4fnv1IffS9xaeq/2pA9G0dX6r9mbO4664nrv/iYKLLgree/I7YuisUu6L/3X9xu+avov+91hwt4fOi/VyWLpkq75r+wGOE7k3Lmv4Iw+aqoveu/5BARsfdu6r/vWjTG+37mv/n8qIDXt+e/0vnicup357+w++ONlPPov7iBBAMHB+q/n1onIjo/6L8qiKe0mSDlv5dUNgCoReW/jJaULSMP6r9L/2XsdRTnv8V2+vRyH+a/Rh2ZK+ty5r+YQPaLYG3mvwZx5zX71ea/k3wWgvmJ5b/guQe384HmvxqNc5BQV+S//DU69xX2478TNvoYUFDmv8G3vGd6neW/wkfcPSmf5r84CkMxcfXmv7TCJrj+6uO/OMUvcyBC5b+0E/M2PV7pvyDaABiD3ee/+a9OJ8Ud57/cr9OgC83ov5X23oiEDuS/nqpp5k4G5L8sGvfLkObmv/pJ/RTNmOS/2bMpSOaj4r9HhzcGQODmv+FHG+GFLei/RzvxT6EL5L9ExB35VEbmv3gPUPhy1ee/BfsPTe8u5r+NF97/iLHmv+ybsJEqXuO/gddSlrVA4r8I7Y54hbriv1RhVCni9uW/Y7kNGVnQ4b9rnfdFB9DjvxTJFW/1JeS/4rp3P+Xb479fF5UlFW7hv/0taWfNseS/0VUwHqqU4r8gM1wTb3nhv38wErZ+JOW/CFGg+Bo65b8JRn6TiIbhv/vMHfN2b+G/1Fv0uv8i4r/PaYU8YB3jv9Egvtcy+OC/YOb7lZ5437//U6ssukrkv1bkC4jKu9+/Fhal153k4r912fRuMTbev6v5VHcNbOW/FpC1/nC13r/bhpHF4ariv4xJ/OemLuW/n5gg+/w5478u/ESWwUXiv+IvWNHm0OC/f2DacIk74b9CN3vj9+bfv+qU8bTV/d6/6eecI/dR379HJrxECGrhv4NzwYJvg+G/0XRoZEoi3b9eSR4eSFTcv4a4Z7qX5d6/pqPZdZyD3L/pMFPGpfvfv58xO5c7DuG/tGCJ16+r378DdDL8zYLcv5hkbGcSw92/gcZwgctV4L88FOXC0KPdvzfWcGAjqt2/RtKj+DaZ3L+Ps6o37yrZv23YZ2fc8t+/zDAu9SCx4r/LcTtvDvDav0UCFlhf392/d/XvnR7y378UrIXSVyHev1ji6A4w69u/XydFxHLG3b+hGe7kRzTgv4yf8Cq3fde/wWlxLNBi1r+GnJHFrtTgvwu6URk9Zti/1HHOYSR92L/n8XyZIcHgv00Ys5jmmda/llmyRAhs17+AZPJxumPbvwsAxpyHr9S/nv4ZqpyC3b9wF4Fgl2rVv9bw/S+lA9q//wS3QvUh178lnsJAR/XYv1oa7TfaXda/cTrFGX1S3b8Dap2K08rYv2YUHdsWvtK/i0ednbim1b+VXwqewrvSv6RfgLr6W9W/t+vj9Csf17/M6GVHhnDdv3YbpgBZjdm/qmbxMxc91r8GdX8Py7DPv2RSAo9nDNe/GMhvSvms1b8FYJOpz/rUv+yMNxLp7dG/MoxQTTDu0r8XySzVFObPv2+UXEGUEc6/9eLalMmKzr+iSze+EWvPvxNhsFWAxtS/c7sqAhtL07/F+LA41kLNv4ZjhIqbJdC/AlkayNdiyr+lUbVeIO3Tv2s75HbS/NO/eO7tMLNe1r9t7EfAWqTTv3hh80YHJ9C/fhoMuJ67zL9ajRPFl57Yv7iyvc8kaMu/lOMAPUZyzb+TjysIrc3Rv9vtHwOIFdO/HVSk3Gtt1L9EIq0/qOLNv3nsrbrZ7ci/Ek+m8Yi21L+jEhmv81vLv+dt/43SOtK/KMUfoyjRw7801BAwmVzQv5PaF6zEg8O/JsYFKm7Yz79RXMDDro/Dv8K1wHZHwMa/5tlqjKHRzb9aQ0ZTYPnMv/9ptdyv4Mu/vYCOrajsxL8PsJICREzNv8V+32HjesG/LL8E4eNt1L/H7cJfez7Vv80qhp9BOdK/tpRf2Vig0r862tpkkhDSv9GrlnoV4My/SqS7XZ081L/qwG+MFqbAv5JtBZx12dK/BEZl62bYxr/u6AMwTlDIv2NVJ0vbHtC/30Z5jPy9wL8gbJ6CTLHSv777IjsJFdC/h9D4wT9lxb9wI+w3d9TRvw6hrmwpx8a/XhtEIHL6zr/8Dm8JYUHGv4No9GGBsMq/YW7MiBbSu7/TlcI6Uv7Mv90yNaIyC8W/t5jKWMaxsb+YaY1wjve1v7JE7EX9osm/Vs+Ro6tUub++/GIIqVqyv0jTu/m6wM2/Q8IhFmRmtb9L3HoQSPPOv8u6VXRb9c+/dZjmT9F5t7/HAddGzCC8vwCk+K5aPce/G1Y/9F/0xL/t7waZ5p24v+Tu5DIO/8m/hPuYyIkrxb8nsq7qkTHKvzp8z5eIrsu/T+73c4bct78R+03Y5pWjv2/v/rUt1JW/ng5ZKT6RyL+bSYoK+QXMv+gs99R/h6K/hSkWeSiRzL9bj4u8lTC+v5Fw4X3Amsq/VnS9AH+7y79Q+uCsJKKJv7UQpjWUTj6/XYIT2VDLkL9vnKtsVoSwv0ADkSwIrJu/O009OKdjpr8FLioTavu8vxCEfMOa9py/jjSY+LsVxL9glfIhAvm/v1/gMuPPH1g/dmACRi+Pob81nyIQ5t64v5MyMsCI0o2/mDeTwvt1wb9WfcRBvRHBv/PoWgGACrO/9bs2Yntaor+cWNOQ+Q+0vxzLQSd8rqE/0ULR1dBNsL+BirElqzKzvzsRX5ZK0MC/I0qYV/H0vb8STnOKrrTDv7sj5Uj0ZbO/JlwJ4uAlsb/9te5wqWrCv83RYgPf3MC/v8+k8cHFqT/ZzfGtwTDAv1mFBYm1W6M/NNxf0P6bqD8P7vVhiie4v1vgRbsdda8//mWcwjkdf78yNVQH8l6TvzU4r38kq7E/7ByYT/CIsD9A7HV4XfKjvxQrDD9H1Zs/uyOZ100Jmb+OeRPinw61v0uVTEBSErY/IAMJuKafuz8PTS0KLM+2P1j09J4KKbQ/zasUbp2XmD8QPXgZ9mSmv79HzwlEXrY/S80dU2ntwD/5akARnv+7PwlPpByPccE/abPQ9wYLwj+CP5bGQMS4P3xPBq/H1Iq/I0+hB5Hcrz98rT2kX3nAP1OnjKvTeIQ/x7KALu2ZwD+UlOrd0vq3P5UOBNzgNps/OtXhm9Lksz/YAiqtjiayPyqPnjP3q8M/4t/1Gsy8sj9EZw8G0InAP3rqY/Kf864/N8YV2D8HyD+OsOHlB5a7PwoZ/EZk7FG/fp206tuQwj+no9gNZwXBP8tS4PAi6cE/R+pTMjE1sz8JWQ9opErBP/Wm8cuzgbE/YDxfDqr/wz97AEERq+jAPyZD4M8CUcM/UBZRYHgYyT9gn/FvbKylP2UsDNfSesw/d75gFKAezj9fLNR6l565P5qI24ndAMg/toFibMv9tz9XFCsQCnCqP+yvJMjafMw/DM/+NWqwwz+LEHkngfG+P0CE9Xidnc0/RsugsRsExT/jZTEChuO1P+dYGO9EAMQ/2ZsUyd+1zz/suIz+xLrRP1NX234HNss/wxMeucdxyT8JejCzcBrSP6m+jmSrF9A/m5pjqt8SuT8yorOkEUrRP6IzZvKqe9E/+N/1FLYTyz/V1ip19vjQP1eUqWq5zNM/j/Xbh+2/0T+XwthQUEi7PyLHl0PSqLs/6t4eFDzE0D996SoH3hDOP/PthWxz78U/jqIKD97jyT+TdnTJNWLAPyScEQgOycg/UHz7d7gzwj/AXEOMCoPUP3I9NC9i3dI/lMOK5pCv0T+BDPRUV57QP2DObknAhcw/wxt0ltRP1T8Ah3N4UkTRP1EvjYfPuMc/xEpPx+qB1j+n0URrvB7UP1u3c0n+N9I/LtmN4MQOyT/FwrlfO/rQP4haFYLVp9A/gyZYjGqN0T+YJ5qGmtTQP++n74kCWtk/08R722lB0z802jBqS57UP6fE8oHcZ9Q/lMTJU3Z+1j9lMj3qwlXYP4qhJXlkCtk/mWfR7Je51j8MiS7luRTYPzhiI/izYdE/WUfzq81XzT9H/Fskn7TUPwdl6+kaodU/SD31CT0F1j+Eh/wLw4jbP5a0qD9OfNM/cz751pTT1D8gdAQAv5DUP+KS/FiBadY/0L7o91DZ1z+q7uiSfEvYPzDmeqsd1dE/lI/ib8Mt3T+2N7KJY1/XP9ajeXl1pdk/WeFs2U3J1D9t/0nl7BjcP48JlBj6Q9o/X7KwQyuC3D+Pm+vfzYTbP8tOlcGxBd4/LKgwhIFo2T87o4NMxfbYP1j5vnHrB94/BTK3O8aX1D/SegEifdTTPz7cNpPtcd0/az5u9Uax3j9OdJ33ZP7VP3vZ4Vaoft8/HyGTHRtl2j+s2vwuBVrfP19GINuMsNc/Dovnz9kP3j8+Xs+8PlbgP6UnSfG2b98/AQWN0hEK4T/9cd6+CjHbPzVyq1c9JOE/dOfmeMcw2z+W/bsmRe/YP5JBWm+OluA/TBc1uhOC3T9xS+7iKETfP806p6uT1do/owvcMxbh3T+gRLHEgtjeP6i/mGRWANw/YhI+/5X+3D+c5Wigl7XhP28VIVn/Ut0/joFe+4Xm3z9i54PiSYDhPwA0D3QH9OE/rTRF6rkP4j8FGBbj9pHhP1yaXIomv+I/6caa7rZD4D+ZLra+FKTjP99CW0OUxeI/Oapkq7Rp4z9igAD+Zf7fPzS+3/8UE+Q/M0spR3M13T+GSIynm1ngP9ZAeelSp9w/GgXthP4R4T8CRRIlYdLjP77cj4ngGOQ/zcq0UzCh4z9Qg3tvMarkP3KEEezlUeE/97cbEGfL4j8OoxdXdy7fP2egCDg1WeQ/GWdgXynW5D8zDsiB9T/fP3rOlj6LGuM/KFcwaXKW4z/zFog4Q1PiPz2JAmhoZOQ/DQCgokpO5T9DE2Hk42PlP2UVfxgUDeQ/HcIaILNN4z9h13Lyz+PjP+HMbfHLGOM/NOsEKtPg5D+UWCnfZTPkPz8/PQ1/MuY/+uUBaHiR5j+EH8rR4DLhPxcZyxEwIOY/wE8xxAF94T8MSaP9eaXhP+ll3WcKEeU/E0xkerlk5T95I4Uu1vTlP37EPlUHh+Y/h0f3EfU15T+z9tCclzTiP7OMtjQ0POU/NUuMVWcp5T+koi7UBo/iP/ln4xTYm+Q/jutJ2vvk5z9JwMAsOcriP5S7Ys5Z3uI/MIJqwngt5z9M2hFmlF7kP65KMA54tuc/EItUBZA25T9+JrRto9HlP72qZKyzKuY/mHwd27dU4z8tnuWVOjPmP8Z4tiq7w+M/CcxxwjdX6T+dB5VgmszoP5NrN3qvNOQ/vlohcgAS6D83Z5zUxcjpP9cjuVfpPOg/5+voxzxT6T/TMDWau67pP+RjbW8CpeU/G1swWkzX5D+S9/zrlnXqP0R7xQXQUuo/kprdZ0aQ5T+XB35pPabnP+BJ9LpoDeg/IZ1+aB526D8Tu/9otA3mP/D9WNxC++o/P4zqalQc6j91ANMSJyfsP0Jc+bpgZOo/NFjctjvL6z8jz8y0qbjqPyP/6bDpx+s/qLmn3LTZ6T92LXzTnk/qP9KpXN/Rbes/zhlvFer16T+DfZtFAjHtPyhjKfrYoes/XU7fXrE17T/mBmvSvWzrP0fQXzNjmOo/lzCPd1+A6j+PixG1UlPsP265aaKP4Os/xmBAGG4R6z/uLxoVqmjtPwpivB9TzO4/k7IK56XJ6j+0x/zZqo3sP4cfxFm+Z+0/Gics0KCk7T+qxOZEQF/vP/cvMWNC3uw/MpXXVS7V7D9D6WybWdvuP/dAdcoKTe8/g6jfibfU7j8D8HCHAtftP+tts6MMmO4/ePOqFuc17z882GGytF3tPzNOnwxTS+0/kVBjvbqL7z9YUiM8pHTwP2bw0S60au0/dWbzaCtB8D8HN3NzgkfsP7IZNqw4Y/A/Zkc+NKZB8D/eMJLSxg/wP2yXOcG3j+4/T14yxBBM7T/3c95bj/LvPwpev20ZqO8/XpMWX1E27j8TM0LeIpTxP9IWz7Xjoe8/bLuzHEAH8D8ERWQRKfLwP1/a0vta7vA/U14S6wpR8T98kGfvBbHxP6QaNZWgSPA//hfb+7Jy8T8zeu6qQxDwP01DGFFzHfI/I1j9d4F68D8blf/IOlrxP580zEcx5PE/dX2oJVCY8j8eF0/NxTbyPx6XYGCgAvA/EsFQXf2r8j+lZndRM7PxP1vSyV2L8PE/lFWB7gd28D90WSuzMWjxP21XcebievI/MA6pgxjz8T8pYL6mlKHxP+jzxP03WfE/s+E3RM2z8D8zkWpyu7bwP7Y45MqhGPM/5ctizELp8T88zH8PjRzyP9WypRBzqvI/XspggaxZ8z8T9haay/fwP4jg9EA3H/M/TJKsGBiA8T/ZXJ9u3MbyP4JhhEH+KPM/wv9mhwrd8j/adkNC2/LyPzVsu7CITfM/jDaY0DAW8z9Me1CHRXzzP4JdmaNlPvI/x0YgAafu8j+ilSCXYKTxP95BWAjq4fM/itGFyHMO8z/xqIj1Xd7zPxaTOzhVcfM/dH1Izbpc8j+xG1CbuP/zPx5oOKIKrvM/jfTb7/nL8z8L3dFAI9n0P2QmKQm4AfM/XBVOBuuq9D/hbArxVUP0P5fgvQckc/I/6cJ92y9q9D/oUKR34NjyP6iJLOC7Q/Q/mf5t2l179D9rxLjyDj70P4Llog9tUvQ/lbT1+S1x9D9CoIkCY+b1P/LecCi8AfY/0HXgiE6Y8z9uQa8ZRJH0P5blohSfsfM/Y8QMj1ZU9D98RgAm9Av2P9aXTYqZ6vM/qwxxuZHJ9D/w3CbcKDP2P1idvvWXqPQ/waOiAuz69T+w8woqSs31P6wBMFqoEfQ/T1Cza2RR9T8YsYfgqHv1P7e+8nuDQfQ/mpMD26xx9j99QReC5T32P1Y4vOmHpvQ/mJfCZ7ue9D+KF/L6Idv2P8Tl3qfEefY/8DPa6Ai49D+4uaooL9j0P9tym0ts2PY/IJWS5Zv59j9Nz76wsyX2P2JRQiKJIPU/eVsE78bn9j/9bNjPF5/2P9LlS6W6C/U/dhF9u9HG9T9vuqfjosz3P9FVKd3SmfU/0TrXih6b9j9HqWxKhLr2P4OxNEcIPPc/vNwt+82Y9T/KSIAEYN/3P9jIfpohXvY/AsgQCWcY9z/jXMcz57P2P6z7xSD3ffY/rLvv2DqP9z81Tyywvwz2P9i/muNCIPc/aksp88sb9j9mMA+Q+jr4Pxg6rqCh6vc/supRsUVi+D8vJykcMEn3P/Lg/8fyYPc/2m1ANcS/9j8JxWz5Sa74PyWQZt9/Vvg/awMT1xw5+D8im+NqLIr3P0ZyXf04xPg/YGfH1IA9+T8myZ5sCvv4P4bhkSodgfg/JACvprMq+T9Ok06GnL/3P0fQRr6Gfvk/OB+5WboZ+D+QPJRKJYb3Pyxvtbc+1Pg/",
          "dtype": "f8"
         },
         "z": {
          "bdata": "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",
          "dtype": "f8"
         }
        },
        {
         "hovertemplate": "Cluster=0<br>PCA1=%{x}<br>PCA2=%{y}<br>PCA3=%{z}<extra></extra>",
         "legendgroup": "0",
         "marker": {
          "color": "#EF553B",
          "opacity": 0.7,
          "symbol": "circle"
         },
         "mode": "markers",
         "name": "0",
         "scene": "scene",
         "showlegend": true,
         "type": "scatter3d",
         "x": {
          "bdata": "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",
          "dtype": "f8"
         },
         "y": {
          "bdata": "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",
          "dtype": "f8"
         },
         "z": {
          "bdata": "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",
          "dtype": "f8"
         }
        },
        {
         "hovertemplate": "Cluster=3<br>PCA1=%{x}<br>PCA2=%{y}<br>PCA3=%{z}<extra></extra>",
         "legendgroup": "3",
         "marker": {
          "color": "#00cc96",
          "opacity": 0.7,
          "symbol": "circle"
         },
         "mode": "markers",
         "name": "3",
         "scene": "scene",
         "showlegend": true,
         "type": "scatter3d",
         "x": {
          "bdata": "hgazPdz9N0BB4Zs1kYAhQP0xdWS+GzFA2IihX+BoIECoOhj9AWMgQJ9atzy7vydASJlSF+RyJ0BNrs8lrwMoQKR4pbx3AiVAGbBj0UJ5NED20X8l16BEQNI9G9n7eStAyW29RkWNIUBQf/bJMhkzQLpnDN85ICBA",
          "dtype": "f8"
         },
         "y": {
          "bdata": "/URmfXzC278fXsuxMqLrv081FpsVuuy/Z+ohl5+q6L+4W3+cOjXmv5bkCwrG/Oi/G83IYi1T3r+pdJyDAnHevyeqhqPohrg/6XlDn95Oz7+xrTjmKFTYP9AbXUmevdo/eXOsGlvI9T8i048/vP3/P/8737KZ4P4/",
          "dtype": "f8"
         },
         "z": {
          "bdata": "C8Hx16YzHUDcj8x74gD/P1LMygQzURVAXC66bspV/j9WTJt9FikAQJ4dJJAvnQ5AHxGujp5WDEBWMfvjktcNQP6foBwoYQVAprf564n0G0BiUhJ/0lYtQGcPo/uvShBAYAJPQSncBEBeQDVWUtAYQCKLkK24zQBA",
          "dtype": "f8"
         }
        },
        {
         "hovertemplate": "Cluster=1<br>PCA1=%{x}<br>PCA2=%{y}<br>PCA3=%{z}<extra></extra>",
         "legendgroup": "1",
         "marker": {
          "color": "#ab63fa",
          "opacity": 0.7,
          "symbol": "circle"
         },
         "mode": "markers",
         "name": "1",
         "scene": "scene",
         "showlegend": true,
         "type": "scatter3d",
         "x": {
          "bdata": "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",
          "dtype": "f8"
         },
         "y": {
          "bdata": "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",
          "dtype": "f8"
         },
         "z": {
          "bdata": "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",
          "dtype": "f8"
         }
        }
       ],
       "layout": {
        "legend": {
         "title": {
          "text": "Cluster"
         },
         "tracegroupgap": 0
        },
        "scene": {
         "domain": {
          "x": [
           0,
           1
          ],
          "y": [
           0,
           1
          ]
         },
         "xaxis": {
          "title": {
           "text": "PCA1"
          }
         },
         "yaxis": {
          "title": {
           "text": "PCA2"
          }
         },
         "zaxis": {
          "title": {
           "text": "PCA3"
          }
         }
        },
        "template": {
         "data": {
          "bar": [
           {
            "error_x": {
             "color": "#2a3f5f"
            },
            "error_y": {
             "color": "#2a3f5f"
            },
            "marker": {
             "line": {
              "color": "#E5ECF6",
              "width": 0.5
             },
             "pattern": {
              "fillmode": "overlay",
              "size": 10,
              "solidity": 0.2
             }
            },
            "type": "bar"
           }
          ],
          "barpolar": [
           {
            "marker": {
             "line": {
              "color": "#E5ECF6",
              "width": 0.5
             },
             "pattern": {
              "fillmode": "overlay",
              "size": 10,
              "solidity": 0.2
             }
            },
            "type": "barpolar"
           }
          ],
          "carpet": [
           {
            "aaxis": {
             "endlinecolor": "#2a3f5f",
             "gridcolor": "white",
             "linecolor": "white",
             "minorgridcolor": "white",
             "startlinecolor": "#2a3f5f"
            },
            "baxis": {
             "endlinecolor": "#2a3f5f",
             "gridcolor": "white",
             "linecolor": "white",
             "minorgridcolor": "white",
             "startlinecolor": "#2a3f5f"
            },
            "type": "carpet"
           }
          ],
          "choropleth": [
           {
            "colorbar": {
             "outlinewidth": 0,
             "ticks": ""
            },
            "type": "choropleth"
           }
          ],
          "contour": [
           {
            "colorbar": {
             "outlinewidth": 0,
             "ticks": ""
            },
            "colorscale": [
             [
              0,
              "#0d0887"
             ],
             [
              0.1111111111111111,
              "#46039f"
             ],
             [
              0.2222222222222222,
              "#7201a8"
             ],
             [
              0.3333333333333333,
              "#9c179e"
             ],
             [
              0.4444444444444444,
              "#bd3786"
             ],
             [
              0.5555555555555556,
              "#d8576b"
             ],
             [
              0.6666666666666666,
              "#ed7953"
             ],
             [
              0.7777777777777778,
              "#fb9f3a"
             ],
             [
              0.8888888888888888,
              "#fdca26"
             ],
             [
              1,
              "#f0f921"
             ]
            ],
            "type": "contour"
           }
          ],
          "contourcarpet": [
           {
            "colorbar": {
             "outlinewidth": 0,
             "ticks": ""
            },
            "type": "contourcarpet"
           }
          ],
          "heatmap": [
           {
            "colorbar": {
             "outlinewidth": 0,
             "ticks": ""
            },
            "colorscale": [
             [
              0,
              "#0d0887"
             ],
             [
              0.1111111111111111,
              "#46039f"
             ],
             [
              0.2222222222222222,
              "#7201a8"
             ],
             [
              0.3333333333333333,
              "#9c179e"
             ],
             [
              0.4444444444444444,
              "#bd3786"
             ],
             [
              0.5555555555555556,
              "#d8576b"
             ],
             [
              0.6666666666666666,
              "#ed7953"
             ],
             [
              0.7777777777777778,
              "#fb9f3a"
             ],
             [
              0.8888888888888888,
              "#fdca26"
             ],
             [
              1,
              "#f0f921"
             ]
            ],
            "type": "heatmap"
           }
          ],
          "histogram": [
           {
            "marker": {
             "pattern": {
              "fillmode": "overlay",
              "size": 10,
              "solidity": 0.2
             }
            },
            "type": "histogram"
           }
          ],
          "histogram2d": [
           {
            "colorbar": {
             "outlinewidth": 0,
             "ticks": ""
            },
            "colorscale": [
             [
              0,
              "#0d0887"
             ],
             [
              0.1111111111111111,
              "#46039f"
             ],
             [
              0.2222222222222222,
              "#7201a8"
             ],
             [
              0.3333333333333333,
              "#9c179e"
             ],
             [
              0.4444444444444444,
              "#bd3786"
             ],
             [
              0.5555555555555556,
              "#d8576b"
             ],
             [
              0.6666666666666666,
              "#ed7953"
             ],
             [
              0.7777777777777778,
              "#fb9f3a"
             ],
             [
              0.8888888888888888,
              "#fdca26"
             ],
             [
              1,
              "#f0f921"
             ]
            ],
            "type": "histogram2d"
           }
          ],
          "histogram2dcontour": [
           {
            "colorbar": {
             "outlinewidth": 0,
             "ticks": ""
            },
            "colorscale": [
             [
              0,
              "#0d0887"
             ],
             [
              0.1111111111111111,
              "#46039f"
             ],
             [
              0.2222222222222222,
              "#7201a8"
             ],
             [
              0.3333333333333333,
              "#9c179e"
             ],
             [
              0.4444444444444444,
              "#bd3786"
             ],
             [
              0.5555555555555556,
              "#d8576b"
             ],
             [
              0.6666666666666666,
              "#ed7953"
             ],
             [
              0.7777777777777778,
              "#fb9f3a"
             ],
             [
              0.8888888888888888,
              "#fdca26"
             ],
             [
              1,
              "#f0f921"
             ]
            ],
            "type": "histogram2dcontour"
           }
          ],
          "mesh3d": [
           {
            "colorbar": {
             "outlinewidth": 0,
             "ticks": ""
            },
            "type": "mesh3d"
           }
          ],
          "parcoords": [
           {
            "line": {
             "colorbar": {
              "outlinewidth": 0,
              "ticks": ""
             }
            },
            "type": "parcoords"
           }
          ],
          "pie": [
           {
            "automargin": true,
            "type": "pie"
           }
          ],
          "scatter": [
           {
            "fillpattern": {
             "fillmode": "overlay",
             "size": 10,
             "solidity": 0.2
            },
            "type": "scatter"
           }
          ],
          "scatter3d": [
           {
            "line": {
             "colorbar": {
              "outlinewidth": 0,
              "ticks": ""
             }
            },
            "marker": {
             "colorbar": {
              "outlinewidth": 0,
              "ticks": ""
             }
            },
            "type": "scatter3d"
           }
          ],
          "scattercarpet": [
           {
            "marker": {
             "colorbar": {
              "outlinewidth": 0,
              "ticks": ""
             }
            },
            "type": "scattercarpet"
           }
          ],
          "scattergeo": [
           {
            "marker": {
             "colorbar": {
              "outlinewidth": 0,
              "ticks": ""
             }
            },
            "type": "scattergeo"
           }
          ],
          "scattergl": [
           {
            "marker": {
             "colorbar": {
              "outlinewidth": 0,
              "ticks": ""
             }
            },
            "type": "scattergl"
           }
          ],
          "scattermap": [
           {
            "marker": {
             "colorbar": {
              "outlinewidth": 0,
              "ticks": ""
             }
            },
            "type": "scattermap"
           }
          ],
          "scattermapbox": [
           {
            "marker": {
             "colorbar": {
              "outlinewidth": 0,
              "ticks": ""
             }
            },
            "type": "scattermapbox"
           }
          ],
          "scatterpolar": [
           {
            "marker": {
             "colorbar": {
              "outlinewidth": 0,
              "ticks": ""
             }
            },
            "type": "scatterpolar"
           }
          ],
          "scatterpolargl": [
           {
            "marker": {
             "colorbar": {
              "outlinewidth": 0,
              "ticks": ""
             }
            },
            "type": "scatterpolargl"
           }
          ],
          "scatterternary": [
           {
            "marker": {
             "colorbar": {
              "outlinewidth": 0,
              "ticks": ""
             }
            },
            "type": "scatterternary"
           }
          ],
          "surface": [
           {
            "colorbar": {
             "outlinewidth": 0,
             "ticks": ""
            },
            "colorscale": [
             [
              0,
              "#0d0887"
             ],
             [
              0.1111111111111111,
              "#46039f"
             ],
             [
              0.2222222222222222,
              "#7201a8"
             ],
             [
              0.3333333333333333,
              "#9c179e"
             ],
             [
              0.4444444444444444,
              "#bd3786"
             ],
             [
              0.5555555555555556,
              "#d8576b"
             ],
             [
              0.6666666666666666,
              "#ed7953"
             ],
             [
              0.7777777777777778,
              "#fb9f3a"
             ],
             [
              0.8888888888888888,
              "#fdca26"
             ],
             [
              1,
              "#f0f921"
             ]
            ],
            "type": "surface"
           }
          ],
          "table": [
           {
            "cells": {
             "fill": {
              "color": "#EBF0F8"
             },
             "line": {
              "color": "white"
             }
            },
            "header": {
             "fill": {
              "color": "#C8D4E3"
             },
             "line": {
              "color": "white"
             }
            },
            "type": "table"
           }
          ]
         },
         "layout": {
          "annotationdefaults": {
           "arrowcolor": "#2a3f5f",
           "arrowhead": 0,
           "arrowwidth": 1
          },
          "autotypenumbers": "strict",
          "coloraxis": {
           "colorbar": {
            "outlinewidth": 0,
            "ticks": ""
           }
          },
          "colorscale": {
           "diverging": [
            [
             0,
             "#8e0152"
            ],
            [
             0.1,
             "#c51b7d"
            ],
            [
             0.2,
             "#de77ae"
            ],
            [
             0.3,
             "#f1b6da"
            ],
            [
             0.4,
             "#fde0ef"
            ],
            [
             0.5,
             "#f7f7f7"
            ],
            [
             0.6,
             "#e6f5d0"
            ],
            [
             0.7,
             "#b8e186"
            ],
            [
             0.8,
             "#7fbc41"
            ],
            [
             0.9,
             "#4d9221"
            ],
            [
             1,
             "#276419"
            ]
           ],
           "sequential": [
            [
             0,
             "#0d0887"
            ],
            [
             0.1111111111111111,
             "#46039f"
            ],
            [
             0.2222222222222222,
             "#7201a8"
            ],
            [
             0.3333333333333333,
             "#9c179e"
            ],
            [
             0.4444444444444444,
             "#bd3786"
            ],
            [
             0.5555555555555556,
             "#d8576b"
            ],
            [
             0.6666666666666666,
             "#ed7953"
            ],
            [
             0.7777777777777778,
             "#fb9f3a"
            ],
            [
             0.8888888888888888,
             "#fdca26"
            ],
            [
             1,
             "#f0f921"
            ]
           ],
           "sequentialminus": [
            [
             0,
             "#0d0887"
            ],
            [
             0.1111111111111111,
             "#46039f"
            ],
            [
             0.2222222222222222,
             "#7201a8"
            ],
            [
             0.3333333333333333,
             "#9c179e"
            ],
            [
             0.4444444444444444,
             "#bd3786"
            ],
            [
             0.5555555555555556,
             "#d8576b"
            ],
            [
             0.6666666666666666,
             "#ed7953"
            ],
            [
             0.7777777777777778,
             "#fb9f3a"
            ],
            [
             0.8888888888888888,
             "#fdca26"
            ],
            [
             1,
             "#f0f921"
            ]
           ]
          },
          "colorway": [
           "#636efa",
           "#EF553B",
           "#00cc96",
           "#ab63fa",
           "#FFA15A",
           "#19d3f3",
           "#FF6692",
           "#B6E880",
           "#FF97FF",
           "#FECB52"
          ],
          "font": {
           "color": "#2a3f5f"
          },
          "geo": {
           "bgcolor": "white",
           "lakecolor": "white",
           "landcolor": "#E5ECF6",
           "showlakes": true,
           "showland": true,
           "subunitcolor": "white"
          },
          "hoverlabel": {
           "align": "left"
          },
          "hovermode": "closest",
          "mapbox": {
           "style": "light"
          },
          "paper_bgcolor": "white",
          "plot_bgcolor": "#E5ECF6",
          "polar": {
           "angularaxis": {
            "gridcolor": "white",
            "linecolor": "white",
            "ticks": ""
           },
           "bgcolor": "#E5ECF6",
           "radialaxis": {
            "gridcolor": "white",
            "linecolor": "white",
            "ticks": ""
           }
          },
          "scene": {
           "xaxis": {
            "backgroundcolor": "#E5ECF6",
            "gridcolor": "white",
            "gridwidth": 2,
            "linecolor": "white",
            "showbackground": true,
            "ticks": "",
            "zerolinecolor": "white"
           },
           "yaxis": {
            "backgroundcolor": "#E5ECF6",
            "gridcolor": "white",
            "gridwidth": 2,
            "linecolor": "white",
            "showbackground": true,
            "ticks": "",
            "zerolinecolor": "white"
           },
           "zaxis": {
            "backgroundcolor": "#E5ECF6",
            "gridcolor": "white",
            "gridwidth": 2,
            "linecolor": "white",
            "showbackground": true,
            "ticks": "",
            "zerolinecolor": "white"
           }
          },
          "shapedefaults": {
           "line": {
            "color": "#2a3f5f"
           }
          },
          "ternary": {
           "aaxis": {
            "gridcolor": "white",
            "linecolor": "white",
            "ticks": ""
           },
           "baxis": {
            "gridcolor": "white",
            "linecolor": "white",
            "ticks": ""
           },
           "bgcolor": "#E5ECF6",
           "caxis": {
            "gridcolor": "white",
            "linecolor": "white",
            "ticks": ""
           }
          },
          "title": {
           "x": 0.05
          },
          "xaxis": {
           "automargin": true,
           "gridcolor": "white",
           "linecolor": "white",
           "ticks": "",
           "title": {
            "standoff": 15
           },
           "zerolinecolor": "white",
           "zerolinewidth": 2
          },
          "yaxis": {
           "automargin": true,
           "gridcolor": "white",
           "linecolor": "white",
           "ticks": "",
           "title": {
            "standoff": 15
           },
           "zerolinecolor": "white",
           "zerolinewidth": 2
          }
         }
        },
        "title": {
         "text": "3D KMeans Clusters (PCA Projection)"
        }
       }
      }
     },
     "metadata": {},
     "output_type": "display_data"
    }
   ],
   "source": [
    "fig = px.scatter_3d(\n",
    "    df_pca, \n",
    "    x='PCA1', y='PCA2', z='PCA3',\n",
    "    color='Cluster',\n",
    "    title=\"3D KMeans Clusters (PCA Projection)\",\n",
    "    opacity=0.7\n",
    ")\n",
    "fig.show()"
   ]
  },
  {
   "cell_type": "code",
   "execution_count": 105,
   "id": "4be856b9",
   "metadata": {},
   "outputs": [
    {
     "data": {
      "text/html": [
       "<div>\n",
       "<style scoped>\n",
       "    .dataframe tbody tr th:only-of-type {\n",
       "        vertical-align: middle;\n",
       "    }\n",
       "\n",
       "    .dataframe tbody tr th {\n",
       "        vertical-align: top;\n",
       "    }\n",
       "\n",
       "    .dataframe thead th {\n",
       "        text-align: right;\n",
       "    }\n",
       "</style>\n",
       "<table border=\"1\" class=\"dataframe\">\n",
       "  <thead>\n",
       "    <tr style=\"text-align: right;\">\n",
       "      <th></th>\n",
       "      <th>CustomerID</th>\n",
       "      <th>Recency</th>\n",
       "      <th>Frequency</th>\n",
       "      <th>Monetary</th>\n",
       "      <th>Cluster</th>\n",
       "    </tr>\n",
       "  </thead>\n",
       "  <tbody>\n",
       "    <tr>\n",
       "      <th>0</th>\n",
       "      <td>12346.0</td>\n",
       "      <td>326</td>\n",
       "      <td>1</td>\n",
       "      <td>35.40</td>\n",
       "      <td>2</td>\n",
       "    </tr>\n",
       "    <tr>\n",
       "      <th>1</th>\n",
       "      <td>12347.0</td>\n",
       "      <td>2</td>\n",
       "      <td>7</td>\n",
       "      <td>3646.97</td>\n",
       "      <td>0</td>\n",
       "    </tr>\n",
       "    <tr>\n",
       "      <th>2</th>\n",
       "      <td>12348.0</td>\n",
       "      <td>75</td>\n",
       "      <td>4</td>\n",
       "      <td>960.68</td>\n",
       "      <td>0</td>\n",
       "    </tr>\n",
       "    <tr>\n",
       "      <th>3</th>\n",
       "      <td>12349.0</td>\n",
       "      <td>19</td>\n",
       "      <td>1</td>\n",
       "      <td>1388.60</td>\n",
       "      <td>0</td>\n",
       "    </tr>\n",
       "    <tr>\n",
       "      <th>4</th>\n",
       "      <td>12350.0</td>\n",
       "      <td>310</td>\n",
       "      <td>1</td>\n",
       "      <td>329.80</td>\n",
       "      <td>2</td>\n",
       "    </tr>\n",
       "    <tr>\n",
       "      <th>...</th>\n",
       "      <td>...</td>\n",
       "      <td>...</td>\n",
       "      <td>...</td>\n",
       "      <td>...</td>\n",
       "      <td>...</td>\n",
       "    </tr>\n",
       "    <tr>\n",
       "      <th>4333</th>\n",
       "      <td>18280.0</td>\n",
       "      <td>278</td>\n",
       "      <td>1</td>\n",
       "      <td>180.60</td>\n",
       "      <td>2</td>\n",
       "    </tr>\n",
       "    <tr>\n",
       "      <th>4334</th>\n",
       "      <td>18281.0</td>\n",
       "      <td>181</td>\n",
       "      <td>1</td>\n",
       "      <td>80.82</td>\n",
       "      <td>1</td>\n",
       "    </tr>\n",
       "    <tr>\n",
       "      <th>4335</th>\n",
       "      <td>18282.0</td>\n",
       "      <td>8</td>\n",
       "      <td>2</td>\n",
       "      <td>178.05</td>\n",
       "      <td>1</td>\n",
       "    </tr>\n",
       "    <tr>\n",
       "      <th>4336</th>\n",
       "      <td>18283.0</td>\n",
       "      <td>4</td>\n",
       "      <td>16</td>\n",
       "      <td>2320.35</td>\n",
       "      <td>1</td>\n",
       "    </tr>\n",
       "    <tr>\n",
       "      <th>4337</th>\n",
       "      <td>18287.0</td>\n",
       "      <td>43</td>\n",
       "      <td>3</td>\n",
       "      <td>1484.90</td>\n",
       "      <td>1</td>\n",
       "    </tr>\n",
       "  </tbody>\n",
       "</table>\n",
       "<p>4338 rows × 5 columns</p>\n",
       "</div>"
      ],
      "text/plain": [
       "      CustomerID  Recency  Frequency  Monetary  Cluster\n",
       "0        12346.0      326          1     35.40        2\n",
       "1        12347.0        2          7   3646.97        0\n",
       "2        12348.0       75          4    960.68        0\n",
       "3        12349.0       19          1   1388.60        0\n",
       "4        12350.0      310          1    329.80        2\n",
       "...          ...      ...        ...       ...      ...\n",
       "4333     18280.0      278          1    180.60        2\n",
       "4334     18281.0      181          1     80.82        1\n",
       "4335     18282.0        8          2    178.05        1\n",
       "4336     18283.0        4         16   2320.35        1\n",
       "4337     18287.0       43          3   1484.90        1\n",
       "\n",
       "[4338 rows x 5 columns]"
      ]
     },
     "execution_count": 105,
     "metadata": {},
     "output_type": "execute_result"
    }
   ],
   "source": [
    "rfm[\"Cluster\"] = labels\n",
    "rfm"
   ]
  },
  {
   "cell_type": "code",
   "execution_count": 107,
   "id": "beab73b0",
   "metadata": {},
   "outputs": [
    {
     "data": {
      "text/plain": [
       "Cluster\n",
       "1    1696\n",
       "0    1661\n",
       "2     966\n",
       "3      15\n",
       "Name: count, dtype: int64"
      ]
     },
     "execution_count": 107,
     "metadata": {},
     "output_type": "execute_result"
    }
   ],
   "source": [
    "rfm[\"Cluster\"].value_counts()"
   ]
  },
  {
   "cell_type": "code",
   "execution_count": 110,
   "id": "368a17e3",
   "metadata": {},
   "outputs": [
    {
     "data": {
      "text/html": [
       "<div>\n",
       "<style scoped>\n",
       "    .dataframe tbody tr th:only-of-type {\n",
       "        vertical-align: middle;\n",
       "    }\n",
       "\n",
       "    .dataframe tbody tr th {\n",
       "        vertical-align: top;\n",
       "    }\n",
       "\n",
       "    .dataframe thead th {\n",
       "        text-align: right;\n",
       "    }\n",
       "</style>\n",
       "<table border=\"1\" class=\"dataframe\">\n",
       "  <thead>\n",
       "    <tr style=\"text-align: right;\">\n",
       "      <th></th>\n",
       "      <th>CustomerID</th>\n",
       "      <th>Recency</th>\n",
       "      <th>Frequency</th>\n",
       "      <th>Monetary</th>\n",
       "    </tr>\n",
       "    <tr>\n",
       "      <th>Cluster</th>\n",
       "      <th></th>\n",
       "      <th></th>\n",
       "      <th></th>\n",
       "      <th></th>\n",
       "    </tr>\n",
       "  </thead>\n",
       "  <tbody>\n",
       "    <tr>\n",
       "      <th>0</th>\n",
       "      <td>13768.618904</td>\n",
       "      <td>44.361228</td>\n",
       "      <td>4.853703</td>\n",
       "      <td>1535.280259</td>\n",
       "    </tr>\n",
       "    <tr>\n",
       "      <th>1</th>\n",
       "      <td>16813.652712</td>\n",
       "      <td>46.849646</td>\n",
       "      <td>4.554245</td>\n",
       "      <td>1214.297647</td>\n",
       "    </tr>\n",
       "    <tr>\n",
       "      <th>2</th>\n",
       "      <td>15285.870600</td>\n",
       "      <td>256.972050</td>\n",
       "      <td>1.504141</td>\n",
       "      <td>356.778561</td>\n",
       "    </tr>\n",
       "    <tr>\n",
       "      <th>3</th>\n",
       "      <td>14759.200000</td>\n",
       "      <td>3.133333</td>\n",
       "      <td>86.200000</td>\n",
       "      <td>35222.696667</td>\n",
       "    </tr>\n",
       "  </tbody>\n",
       "</table>\n",
       "</div>"
      ],
      "text/plain": [
       "           CustomerID     Recency  Frequency      Monetary\n",
       "Cluster                                                   \n",
       "0        13768.618904   44.361228   4.853703   1535.280259\n",
       "1        16813.652712   46.849646   4.554245   1214.297647\n",
       "2        15285.870600  256.972050   1.504141    356.778561\n",
       "3        14759.200000    3.133333  86.200000  35222.696667"
      ]
     },
     "execution_count": 110,
     "metadata": {},
     "output_type": "execute_result"
    }
   ],
   "source": [
    "cluster_means = rfm.groupby('Cluster').mean(numeric_only=True)\n",
    "cluster_means"
   ]
  },
  {
   "cell_type": "code",
   "execution_count": 112,
   "id": "edd80413",
   "metadata": {},
   "outputs": [
    {
     "data": {
      "text/html": [
       "<div>\n",
       "<style scoped>\n",
       "    .dataframe tbody tr th:only-of-type {\n",
       "        vertical-align: middle;\n",
       "    }\n",
       "\n",
       "    .dataframe tbody tr th {\n",
       "        vertical-align: top;\n",
       "    }\n",
       "\n",
       "    .dataframe thead tr th {\n",
       "        text-align: left;\n",
       "    }\n",
       "\n",
       "    .dataframe thead tr:last-of-type th {\n",
       "        text-align: right;\n",
       "    }\n",
       "</style>\n",
       "<table border=\"1\" class=\"dataframe\">\n",
       "  <thead>\n",
       "    <tr>\n",
       "      <th></th>\n",
       "      <th colspan=\"4\" halign=\"left\">CustomerID</th>\n",
       "      <th colspan=\"4\" halign=\"left\">Recency</th>\n",
       "      <th colspan=\"4\" halign=\"left\">Frequency</th>\n",
       "      <th colspan=\"4\" halign=\"left\">Monetary</th>\n",
       "    </tr>\n",
       "    <tr>\n",
       "      <th></th>\n",
       "      <th>mean</th>\n",
       "      <th>median</th>\n",
       "      <th>min</th>\n",
       "      <th>max</th>\n",
       "      <th>mean</th>\n",
       "      <th>median</th>\n",
       "      <th>min</th>\n",
       "      <th>max</th>\n",
       "      <th>mean</th>\n",
       "      <th>median</th>\n",
       "      <th>min</th>\n",
       "      <th>max</th>\n",
       "      <th>mean</th>\n",
       "      <th>median</th>\n",
       "      <th>min</th>\n",
       "      <th>max</th>\n",
       "    </tr>\n",
       "    <tr>\n",
       "      <th>Cluster</th>\n",
       "      <th></th>\n",
       "      <th></th>\n",
       "      <th></th>\n",
       "      <th></th>\n",
       "      <th></th>\n",
       "      <th></th>\n",
       "      <th></th>\n",
       "      <th></th>\n",
       "      <th></th>\n",
       "      <th></th>\n",
       "      <th></th>\n",
       "      <th></th>\n",
       "      <th></th>\n",
       "      <th></th>\n",
       "      <th></th>\n",
       "      <th></th>\n",
       "    </tr>\n",
       "  </thead>\n",
       "  <tbody>\n",
       "    <tr>\n",
       "      <th>0</th>\n",
       "      <td>13768.618904</td>\n",
       "      <td>13758.0</td>\n",
       "      <td>12347.0</td>\n",
       "      <td>15615.0</td>\n",
       "      <td>44.361228</td>\n",
       "      <td>30.0</td>\n",
       "      <td>1</td>\n",
       "      <td>190</td>\n",
       "      <td>4.853703</td>\n",
       "      <td>3.0</td>\n",
       "      <td>1</td>\n",
       "      <td>57</td>\n",
       "      <td>1535.280259</td>\n",
       "      <td>830.950</td>\n",
       "      <td>6.33</td>\n",
       "      <td>23054.44</td>\n",
       "    </tr>\n",
       "    <tr>\n",
       "      <th>1</th>\n",
       "      <td>16813.652712</td>\n",
       "      <td>16828.5</td>\n",
       "      <td>15243.0</td>\n",
       "      <td>18287.0</td>\n",
       "      <td>46.849646</td>\n",
       "      <td>33.0</td>\n",
       "      <td>1</td>\n",
       "      <td>206</td>\n",
       "      <td>4.554245</td>\n",
       "      <td>3.0</td>\n",
       "      <td>1</td>\n",
       "      <td>63</td>\n",
       "      <td>1214.297647</td>\n",
       "      <td>667.555</td>\n",
       "      <td>7.98</td>\n",
       "      <td>16397.16</td>\n",
       "    </tr>\n",
       "    <tr>\n",
       "      <th>2</th>\n",
       "      <td>15285.870600</td>\n",
       "      <td>15263.5</td>\n",
       "      <td>12346.0</td>\n",
       "      <td>18280.0</td>\n",
       "      <td>256.972050</td>\n",
       "      <td>254.0</td>\n",
       "      <td>127</td>\n",
       "      <td>374</td>\n",
       "      <td>1.504141</td>\n",
       "      <td>1.0</td>\n",
       "      <td>1</td>\n",
       "      <td>34</td>\n",
       "      <td>356.778561</td>\n",
       "      <td>256.110</td>\n",
       "      <td>3.75</td>\n",
       "      <td>5029.94</td>\n",
       "    </tr>\n",
       "    <tr>\n",
       "      <th>3</th>\n",
       "      <td>14759.200000</td>\n",
       "      <td>14298.0</td>\n",
       "      <td>12748.0</td>\n",
       "      <td>18102.0</td>\n",
       "      <td>3.133333</td>\n",
       "      <td>2.0</td>\n",
       "      <td>1</td>\n",
       "      <td>10</td>\n",
       "      <td>86.200000</td>\n",
       "      <td>73.0</td>\n",
       "      <td>17</td>\n",
       "      <td>209</td>\n",
       "      <td>35222.696667</td>\n",
       "      <td>29395.020</td>\n",
       "      <td>7171.44</td>\n",
       "      <td>109459.04</td>\n",
       "    </tr>\n",
       "  </tbody>\n",
       "</table>\n",
       "</div>"
      ],
      "text/plain": [
       "           CustomerID                                Recency                   \\\n",
       "                 mean   median      min      max        mean median  min  max   \n",
       "Cluster                                                                         \n",
       "0        13768.618904  13758.0  12347.0  15615.0   44.361228   30.0    1  190   \n",
       "1        16813.652712  16828.5  15243.0  18287.0   46.849646   33.0    1  206   \n",
       "2        15285.870600  15263.5  12346.0  18280.0  256.972050  254.0  127  374   \n",
       "3        14759.200000  14298.0  12748.0  18102.0    3.133333    2.0    1   10   \n",
       "\n",
       "         Frequency                      Monetary                      \\\n",
       "              mean median min  max          mean     median      min   \n",
       "Cluster                                                                \n",
       "0         4.853703    3.0   1   57   1535.280259    830.950     6.33   \n",
       "1         4.554245    3.0   1   63   1214.297647    667.555     7.98   \n",
       "2         1.504141    1.0   1   34    356.778561    256.110     3.75   \n",
       "3        86.200000   73.0  17  209  35222.696667  29395.020  7171.44   \n",
       "\n",
       "                    \n",
       "               max  \n",
       "Cluster             \n",
       "0         23054.44  \n",
       "1         16397.16  \n",
       "2          5029.94  \n",
       "3        109459.04  "
      ]
     },
     "execution_count": 112,
     "metadata": {},
     "output_type": "execute_result"
    }
   ],
   "source": [
    "cluster_summary = rfm.groupby('Cluster').agg(['mean', 'median', 'min', 'max'])\n",
    "cluster_summary"
   ]
  },
  {
   "cell_type": "code",
   "execution_count": 118,
   "id": "723f12b4",
   "metadata": {},
   "outputs": [
    {
     "data": {
      "image/png": "[encoded data removed]",
      "text/plain": [
       "<Figure size 800x500 with 2 Axes>"
      ]
     },
     "metadata": {},
     "output_type": "display_data"
    }
   ],
   "source": [
    "cluster_stats = rfm.groupby('Cluster')[['Recency','Frequency','Monetary']].mean()\n",
    "\n",
    "plt.figure(figsize=(8,5))\n",
    "sns.heatmap(cluster_stats, annot=True, fmt=\".1f\", cmap=\"YlGnBu\")\n",
    "plt.title(\"Cluster Profiles (Average RFM Values)\")\n",
    "plt.show()\n"
   ]
  },
  {
   "cell_type": "code",
   "execution_count": null,
   "id": "0cb2050f",
   "metadata": {},
   "outputs": [],
   "source": []
  },
  {
   "cell_type": "markdown",
   "id": "ec9703c1",
   "metadata": {},
   "source": [
    "# 📊 Cluster Profiles  \n",
    "\n",
    "---\n",
    "\n",
    "## 🔹 Cluster 0\n",
    "- **Recency:** ~44 days (recent buyers, active customers)  \n",
    "- **Frequency:** ~5 purchases (moderate repeaters)  \n",
    "- **Monetary:** ~1535 total spend (medium spenders)  \n",
    "- **Interpretation:** 🟢 **Loyal Mid-Tier Customers** – they shop somewhat often and spend a reasonable amount.  \n",
    "\n",
    "---\n",
    "\n",
    "## 🔹 Cluster 1\n",
    "- **Recency:** ~47 days (also fairly recent)  \n",
    "- **Frequency:** ~4.5 purchases (moderate repeaters)  \n",
    "- **Monetary:** ~1214 spend (lower than Cluster 0)  \n",
    "- **Interpretation:** 🟡 **Regular but Lower-Spending Customers** – similar behavior to Cluster 0 but spend less overall.  \n",
    "\n",
    "---\n",
    "\n",
    "## 🔹 Cluster 2\n",
    "- **Recency:** ~257 days (haven’t purchased in a long time)  \n",
    "- **Frequency:** ~1.5 purchases (almost one-time buyers)  \n",
    "- **Monetary:** ~357 spend (low)  \n",
    "- **Interpretation:** 🔴 **At-Risk / Lost Customers** – old customers with low engagement and low spend.  \n",
    "\n",
    "---\n",
    "\n",
    "## 🔹 Cluster 3\n",
    "- **Recency:** ~3 days (very recent purchases)  \n",
    "- **Frequency:** ~86 purchases (extremely frequent)  \n",
    "- **Monetary:** ~35,223 spend (highest)  \n",
    "- **Interpretation:** 🌟 **VIP Customers** – recent, highly frequent, and extremely valuable.  \n",
    "\n",
    "---\n",
    "\n",
    "# 🧭 Final Business Insights\n",
    "- **Cluster 3 (VIPs):** Keep them happy → loyalty rewards, exclusive offers.  \n",
    "- **Cluster 0 (Mid-Tier Loyal):** Encourage upsell/cross-sell to move them toward VIP.  \n",
    "- **Cluster 1 (Regular Low Spenders):** Offer bundles/discounts to increase spending.  \n",
    "- **Cluster 2 (At-Risk):** Send win-back campaigns (emails, reactivation offers).  \n"
   ]
  }
 ],
 "metadata": {
  "kernelspec": {
   "display_name": "AUSAM",
   "language": "python",
   "name": "python3"
  },
  "language_info": {
   "codemirror_mode": {
    "name": "ipython",
    "version": 3
   },
   "file_extension": ".py",
   "mimetype": "text/x-python",
   "name": "python",
   "nbconvert_exporter": "python",
   "pygments_lexer": "ipython3",
   "version": "3.12.5"
  }
 },
 "nbformat": 4,
 "nbformat_minor": 5
}
