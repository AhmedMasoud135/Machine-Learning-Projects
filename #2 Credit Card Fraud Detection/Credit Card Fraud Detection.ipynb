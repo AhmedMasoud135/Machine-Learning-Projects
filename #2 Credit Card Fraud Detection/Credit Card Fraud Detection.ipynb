{
 "cells": [
  {
   "cell_type": "markdown",
   "id": "3f34a784",
   "metadata": {},
   "source": [
    "<h1> Import Libraries </h1>"
   ]
  },
  {
   "cell_type": "code",
   "execution_count": 55,
   "id": "869518bb",
   "metadata": {},
   "outputs": [],
   "source": [
    "import pandas as pd\n",
    "import numpy as np    \n",
    "import matplotlib.pyplot as plt\n",
    "import seaborn as sns\n",
    "from sklearn.ensemble import IsolationForest\n",
    "from sklearn.metrics import classification_report, confusion_matrix\n",
    "from sklearn.svm import OneClassSVM\n",
    "from sklearn.model_selection import train_test_split, StratifiedKFold, cross_val_score\n",
    "from imblearn.over_sampling import SMOTE\n",
    "from imblearn.pipeline import Pipeline\n",
    "from sklearn.linear_model import LogisticRegression\n",
    "from sklearn.ensemble import RandomForestClassifier\n",
    "from xgboost import XGBClassifier\n",
    "from sklearn.neighbors import KNeighborsClassifier\n",
    "from sklearn.metrics import make_scorer, recall_score\n",
    "import time\n"
   ]
  },
  {
   "cell_type": "markdown",
   "id": "7a66b5ff",
   "metadata": {},
   "source": [
    "<h1> Explore The Data </h1>"
   ]
  },
  {
   "cell_type": "code",
   "execution_count": 3,
   "id": "df810cb7",
   "metadata": {},
   "outputs": [
    {
     "data": {
      "text/html": [
       "<div>\n",
       "<style scoped>\n",
       "    .dataframe tbody tr th:only-of-type {\n",
       "        vertical-align: middle;\n",
       "    }\n",
       "\n",
       "    .dataframe tbody tr th {\n",
       "        vertical-align: top;\n",
       "    }\n",
       "\n",
       "    .dataframe thead th {\n",
       "        text-align: right;\n",
       "    }\n",
       "</style>\n",
       "<table border=\"1\" class=\"dataframe\">\n",
       "  <thead>\n",
       "    <tr style=\"text-align: right;\">\n",
       "      <th></th>\n",
       "      <th>Time</th>\n",
       "      <th>V1</th>\n",
       "      <th>V2</th>\n",
       "      <th>V3</th>\n",
       "      <th>V4</th>\n",
       "      <th>V5</th>\n",
       "      <th>V6</th>\n",
       "      <th>V7</th>\n",
       "      <th>V8</th>\n",
       "      <th>V9</th>\n",
       "      <th>...</th>\n",
       "      <th>V21</th>\n",
       "      <th>V22</th>\n",
       "      <th>V23</th>\n",
       "      <th>V24</th>\n",
       "      <th>V25</th>\n",
       "      <th>V26</th>\n",
       "      <th>V27</th>\n",
       "      <th>V28</th>\n",
       "      <th>Amount</th>\n",
       "      <th>Class</th>\n",
       "    </tr>\n",
       "  </thead>\n",
       "  <tbody>\n",
       "    <tr>\n",
       "      <th>0</th>\n",
       "      <td>0.0</td>\n",
       "      <td>-1.359807</td>\n",
       "      <td>-0.072781</td>\n",
       "      <td>2.536347</td>\n",
       "      <td>1.378155</td>\n",
       "      <td>-0.338321</td>\n",
       "      <td>0.462388</td>\n",
       "      <td>0.239599</td>\n",
       "      <td>0.098698</td>\n",
       "      <td>0.363787</td>\n",
       "      <td>...</td>\n",
       "      <td>-0.018307</td>\n",
       "      <td>0.277838</td>\n",
       "      <td>-0.110474</td>\n",
       "      <td>0.066928</td>\n",
       "      <td>0.128539</td>\n",
       "      <td>-0.189115</td>\n",
       "      <td>0.133558</td>\n",
       "      <td>-0.021053</td>\n",
       "      <td>149.62</td>\n",
       "      <td>0</td>\n",
       "    </tr>\n",
       "    <tr>\n",
       "      <th>1</th>\n",
       "      <td>0.0</td>\n",
       "      <td>1.191857</td>\n",
       "      <td>0.266151</td>\n",
       "      <td>0.166480</td>\n",
       "      <td>0.448154</td>\n",
       "      <td>0.060018</td>\n",
       "      <td>-0.082361</td>\n",
       "      <td>-0.078803</td>\n",
       "      <td>0.085102</td>\n",
       "      <td>-0.255425</td>\n",
       "      <td>...</td>\n",
       "      <td>-0.225775</td>\n",
       "      <td>-0.638672</td>\n",
       "      <td>0.101288</td>\n",
       "      <td>-0.339846</td>\n",
       "      <td>0.167170</td>\n",
       "      <td>0.125895</td>\n",
       "      <td>-0.008983</td>\n",
       "      <td>0.014724</td>\n",
       "      <td>2.69</td>\n",
       "      <td>0</td>\n",
       "    </tr>\n",
       "    <tr>\n",
       "      <th>2</th>\n",
       "      <td>1.0</td>\n",
       "      <td>-1.358354</td>\n",
       "      <td>-1.340163</td>\n",
       "      <td>1.773209</td>\n",
       "      <td>0.379780</td>\n",
       "      <td>-0.503198</td>\n",
       "      <td>1.800499</td>\n",
       "      <td>0.791461</td>\n",
       "      <td>0.247676</td>\n",
       "      <td>-1.514654</td>\n",
       "      <td>...</td>\n",
       "      <td>0.247998</td>\n",
       "      <td>0.771679</td>\n",
       "      <td>0.909412</td>\n",
       "      <td>-0.689281</td>\n",
       "      <td>-0.327642</td>\n",
       "      <td>-0.139097</td>\n",
       "      <td>-0.055353</td>\n",
       "      <td>-0.059752</td>\n",
       "      <td>378.66</td>\n",
       "      <td>0</td>\n",
       "    </tr>\n",
       "    <tr>\n",
       "      <th>3</th>\n",
       "      <td>1.0</td>\n",
       "      <td>-0.966272</td>\n",
       "      <td>-0.185226</td>\n",
       "      <td>1.792993</td>\n",
       "      <td>-0.863291</td>\n",
       "      <td>-0.010309</td>\n",
       "      <td>1.247203</td>\n",
       "      <td>0.237609</td>\n",
       "      <td>0.377436</td>\n",
       "      <td>-1.387024</td>\n",
       "      <td>...</td>\n",
       "      <td>-0.108300</td>\n",
       "      <td>0.005274</td>\n",
       "      <td>-0.190321</td>\n",
       "      <td>-1.175575</td>\n",
       "      <td>0.647376</td>\n",
       "      <td>-0.221929</td>\n",
       "      <td>0.062723</td>\n",
       "      <td>0.061458</td>\n",
       "      <td>123.50</td>\n",
       "      <td>0</td>\n",
       "    </tr>\n",
       "    <tr>\n",
       "      <th>4</th>\n",
       "      <td>2.0</td>\n",
       "      <td>-1.158233</td>\n",
       "      <td>0.877737</td>\n",
       "      <td>1.548718</td>\n",
       "      <td>0.403034</td>\n",
       "      <td>-0.407193</td>\n",
       "      <td>0.095921</td>\n",
       "      <td>0.592941</td>\n",
       "      <td>-0.270533</td>\n",
       "      <td>0.817739</td>\n",
       "      <td>...</td>\n",
       "      <td>-0.009431</td>\n",
       "      <td>0.798278</td>\n",
       "      <td>-0.137458</td>\n",
       "      <td>0.141267</td>\n",
       "      <td>-0.206010</td>\n",
       "      <td>0.502292</td>\n",
       "      <td>0.219422</td>\n",
       "      <td>0.215153</td>\n",
       "      <td>69.99</td>\n",
       "      <td>0</td>\n",
       "    </tr>\n",
       "  </tbody>\n",
       "</table>\n",
       "<p>5 rows × 31 columns</p>\n",
       "</div>"
      ],
      "text/plain": [
       "   Time        V1        V2        V3        V4        V5        V6        V7  \\\n",
       "0   0.0 -1.359807 -0.072781  2.536347  1.378155 -0.338321  0.462388  0.239599   \n",
       "1   0.0  1.191857  0.266151  0.166480  0.448154  0.060018 -0.082361 -0.078803   \n",
       "2   1.0 -1.358354 -1.340163  1.773209  0.379780 -0.503198  1.800499  0.791461   \n",
       "3   1.0 -0.966272 -0.185226  1.792993 -0.863291 -0.010309  1.247203  0.237609   \n",
       "4   2.0 -1.158233  0.877737  1.548718  0.403034 -0.407193  0.095921  0.592941   \n",
       "\n",
       "         V8        V9  ...       V21       V22       V23       V24       V25  \\\n",
       "0  0.098698  0.363787  ... -0.018307  0.277838 -0.110474  0.066928  0.128539   \n",
       "1  0.085102 -0.255425  ... -0.225775 -0.638672  0.101288 -0.339846  0.167170   \n",
       "2  0.247676 -1.514654  ...  0.247998  0.771679  0.909412 -0.689281 -0.327642   \n",
       "3  0.377436 -1.387024  ... -0.108300  0.005274 -0.190321 -1.175575  0.647376   \n",
       "4 -0.270533  0.817739  ... -0.009431  0.798278 -0.137458  0.141267 -0.206010   \n",
       "\n",
       "        V26       V27       V28  Amount  Class  \n",
       "0 -0.189115  0.133558 -0.021053  149.62      0  \n",
       "1  0.125895 -0.008983  0.014724    2.69      0  \n",
       "2 -0.139097 -0.055353 -0.059752  378.66      0  \n",
       "3 -0.221929  0.062723  0.061458  123.50      0  \n",
       "4  0.502292  0.219422  0.215153   69.99      0  \n",
       "\n",
       "[5 rows x 31 columns]"
      ]
     },
     "execution_count": 3,
     "metadata": {},
     "output_type": "execute_result"
    }
   ],
   "source": [
    "df = pd.read_csv('creditcard.csv')\n",
    "df.head()"
   ]
  },
  {
   "cell_type": "code",
   "execution_count": 4,
   "id": "3efe9ed8",
   "metadata": {},
   "outputs": [
    {
     "name": "stdout",
     "output_type": "stream",
     "text": [
      "<class 'pandas.core.frame.DataFrame'>\n",
      "RangeIndex: 284807 entries, 0 to 284806\n",
      "Data columns (total 31 columns):\n",
      " #   Column  Non-Null Count   Dtype  \n",
      "---  ------  --------------   -----  \n",
      " 0   Time    284807 non-null  float64\n",
      " 1   V1      284807 non-null  float64\n",
      " 2   V2      284807 non-null  float64\n",
      " 3   V3      284807 non-null  float64\n",
      " 4   V4      284807 non-null  float64\n",
      " 5   V5      284807 non-null  float64\n",
      " 6   V6      284807 non-null  float64\n",
      " 7   V7      284807 non-null  float64\n",
      " 8   V8      284807 non-null  float64\n",
      " 9   V9      284807 non-null  float64\n",
      " 10  V10     284807 non-null  float64\n",
      " 11  V11     284807 non-null  float64\n",
      " 12  V12     284807 non-null  float64\n",
      " 13  V13     284807 non-null  float64\n",
      " 14  V14     284807 non-null  float64\n",
      " 15  V15     284807 non-null  float64\n",
      " 16  V16     284807 non-null  float64\n",
      " 17  V17     284807 non-null  float64\n",
      " 18  V18     284807 non-null  float64\n",
      " 19  V19     284807 non-null  float64\n",
      " 20  V20     284807 non-null  float64\n",
      " 21  V21     284807 non-null  float64\n",
      " 22  V22     284807 non-null  float64\n",
      " 23  V23     284807 non-null  float64\n",
      " 24  V24     284807 non-null  float64\n",
      " 25  V25     284807 non-null  float64\n",
      " 26  V26     284807 non-null  float64\n",
      " 27  V27     284807 non-null  float64\n",
      " 28  V28     284807 non-null  float64\n",
      " 29  Amount  284807 non-null  float64\n",
      " 30  Class   284807 non-null  int64  \n",
      "dtypes: float64(30), int64(1)\n",
      "memory usage: 67.4 MB\n"
     ]
    }
   ],
   "source": [
    "df.info()"
   ]
  },
  {
   "cell_type": "code",
   "execution_count": 5,
   "id": "fde65042",
   "metadata": {},
   "outputs": [
    {
     "data": {
      "text/plain": [
       "Time      0\n",
       "V1        0\n",
       "V2        0\n",
       "V3        0\n",
       "V4        0\n",
       "V5        0\n",
       "V6        0\n",
       "V7        0\n",
       "V8        0\n",
       "V9        0\n",
       "V10       0\n",
       "V11       0\n",
       "V12       0\n",
       "V13       0\n",
       "V14       0\n",
       "V15       0\n",
       "V16       0\n",
       "V17       0\n",
       "V18       0\n",
       "V19       0\n",
       "V20       0\n",
       "V21       0\n",
       "V22       0\n",
       "V23       0\n",
       "V24       0\n",
       "V25       0\n",
       "V26       0\n",
       "V27       0\n",
       "V28       0\n",
       "Amount    0\n",
       "Class     0\n",
       "dtype: int64"
      ]
     },
     "execution_count": 5,
     "metadata": {},
     "output_type": "execute_result"
    }
   ],
   "source": [
    "df.isna().sum()"
   ]
  },
  {
   "cell_type": "code",
   "execution_count": null,
   "id": "203348e9",
   "metadata": {},
   "outputs": [
    {
     "data": {
      "text/plain": [
       "Text(0.5, 1.0, 'Class Distribution')"
      ]
     },
     "execution_count": 9,
     "metadata": {},
     "output_type": "execute_result"
    },
    {
     "data": {
      "image/png": "[encoded data removed]",
      "text/plain": [
       "<Figure size 600x400 with 1 Axes>"
      ]
     },
     "metadata": {},
     "output_type": "display_data"
    }
   ],
   "source": [
    "# Visualizing the class distribution\n",
    "plt.figure(figsize=(6,4))\n",
    "sns.countplot(x='Class', data=df)\n",
    "plt.title(\"Class Distribution\")"
   ]
  },
  {
   "cell_type": "code",
   "execution_count": 12,
   "id": "268fc553",
   "metadata": {},
   "outputs": [
    {
     "name": "stdout",
     "output_type": "stream",
     "text": [
      "Class\n",
      "0    284315\n",
      "1       492\n",
      "Name: count, dtype: int64\n",
      "**************************************\n",
      "Class\n",
      "0    0.998273\n",
      "1    0.001727\n",
      "Name: proportion, dtype: float64\n"
     ]
    }
   ],
   "source": [
    "# Printing the class distribution\n",
    "print(df['Class'].value_counts())                # counts\n",
    "print(\"**************************************\")\n",
    "print(df['Class'].value_counts(normalize=True))  # percentage"
   ]
  },
  {
   "cell_type": "code",
   "execution_count": 15,
   "id": "093870a2",
   "metadata": {},
   "outputs": [],
   "source": [
    "X = df.drop('Class', axis=1)\n",
    "y = df['Class']"
   ]
  },
  {
   "cell_type": "markdown",
   "id": "86edeb9e",
   "metadata": {},
   "source": [
    "<h1>🔹 Approach 1: Treat it as an Anomaly Detection Problem</h1>"
   ]
  },
  {
   "cell_type": "code",
   "execution_count": 35,
   "id": "a1f15e9f",
   "metadata": {},
   "outputs": [],
   "source": [
    "# Initialize the Isolation Forest model\n",
    "iso = IsolationForest(\n",
    "    n_estimators=300,       # number of trees\n",
    "    max_samples='auto',     # number of samples per tree\n",
    "    contamination=0.05,     # expected proportion of anomalies\n",
    "    max_features=1.0,       # fraction of features used per tree\n",
    "    random_state=42)"
   ]
  },
  {
   "cell_type": "code",
   "execution_count": 36,
   "id": "f4a93097",
   "metadata": {},
   "outputs": [
    {
     "name": "stdout",
     "output_type": "stream",
     "text": [
      "Isolation Forest training time: 5.2028 seconds\n"
     ]
    }
   ],
   "source": [
    "# Fit the model and predict\n",
    "Start_isolation_time = time.time()\n",
    "iso.fit(X)\n",
    "End_isolation_time = time.time()\n",
    "print(f\"Isolation Forest training time: {End_isolation_time - Start_isolation_time:.4f} seconds\")\n",
    "\n",
    "# Predictions: 1 = normal, -1 = anomaly\n",
    "y_pred = iso.predict(X)\n",
    "y_pred = np.where(y_pred == 1, 0, 1)  # Convert 1 to 0 (normal), -1 to 1 (anomaly)"
   ]
  },
  {
   "cell_type": "code",
   "execution_count": 37,
   "id": "18ff3017",
   "metadata": {},
   "outputs": [
    {
     "data": {
      "text/plain": [
       "array([[270493,  13822],\n",
       "       [    73,    419]], dtype=int64)"
      ]
     },
     "execution_count": 37,
     "metadata": {},
     "output_type": "execute_result"
    }
   ],
   "source": [
    "# Evaluation Isolation Forest\n",
    "confusion_matrix(y, y_pred)"
   ]
  },
  {
   "cell_type": "code",
   "execution_count": 38,
   "id": "028a798a",
   "metadata": {},
   "outputs": [
    {
     "name": "stdout",
     "output_type": "stream",
     "text": [
      "              precision    recall  f1-score   support\n",
      "\n",
      "      Normal     0.9997    0.9514    0.9750    284315\n",
      "       Fraud     0.0294    0.8516    0.0569       492\n",
      "\n",
      "    accuracy                         0.9512    284807\n",
      "   macro avg     0.5146    0.9015    0.5159    284807\n",
      "weighted avg     0.9981    0.9512    0.9734    284807\n",
      "\n"
     ]
    }
   ],
   "source": [
    "# Detailed classification report for Isolation Forest\n",
    "print(classification_report(y, y_pred, target_names=['Normal', 'Fraud'], digits=4))"
   ]
  },
  {
   "cell_type": "code",
   "execution_count": 39,
   "id": "f8f9f873",
   "metadata": {},
   "outputs": [],
   "source": [
    "# in fraued detection, we care more about recall (minimizing false negatives) than precision.\n",
    "# so this model is doing a good job in identifying fraudulent transactions.\n",
    "# let's try another algorithm - One Class SVM"
   ]
  },
  {
   "cell_type": "code",
   "execution_count": 40,
   "id": "68d24dbc",
   "metadata": {},
   "outputs": [],
   "source": [
    "# Split the data into training and testing sets with stratification\n",
    "X_train, X_test, y_train, y_test = train_test_split(X, y, test_size=0.3, random_state=42, stratify=y)\n",
    "\n",
    "# Train only on normal class (y=0)\n",
    "X_train_normal = X_train[y_train == 0]"
   ]
  },
  {
   "cell_type": "code",
   "execution_count": 41,
   "id": "e8d31308",
   "metadata": {},
   "outputs": [],
   "source": [
    "# Initialize the One-Class SVM model\n",
    "oc_svm = OneClassSVM(kernel=\"rbf\", nu=0.1, gamma='scale')"
   ]
  },
  {
   "cell_type": "code",
   "execution_count": 42,
   "id": "2ae459d7",
   "metadata": {},
   "outputs": [
    {
     "name": "stdout",
     "output_type": "stream",
     "text": [
      "One-Class SVM training time: 502.9435 seconds\n"
     ]
    }
   ],
   "source": [
    "# fit the model and predict\n",
    "Start_ocsvm_time = time.time()\n",
    "oc_svm.fit(X_train_normal)\n",
    "End_ocsvm_time = time.time()\n",
    "print(f\"One-Class SVM training time: {End_ocsvm_time - Start_ocsvm_time:.4f} seconds\")\n",
    "\n",
    "# Predictions: -1 = anomaly, 1 = normal\n",
    "y_pred = oc_svm.predict(X_test)\n",
    "y_pred = np.where(y_pred == -1, 1, 0)  # Map 1=fraud, 0=normal → to match labels"
   ]
  },
  {
   "cell_type": "code",
   "execution_count": 43,
   "id": "6824f402",
   "metadata": {},
   "outputs": [
    {
     "data": {
      "text/plain": [
       "array([[76644,  8651],\n",
       "       [  127,    21]], dtype=int64)"
      ]
     },
     "execution_count": 43,
     "metadata": {},
     "output_type": "execute_result"
    }
   ],
   "source": [
    "# Evaluation One-Class SVM\n",
    "confusion_matrix(y_test, y_pred)"
   ]
  },
  {
   "cell_type": "code",
   "execution_count": 44,
   "id": "be3e10a2",
   "metadata": {},
   "outputs": [
    {
     "name": "stdout",
     "output_type": "stream",
     "text": [
      "              precision    recall  f1-score   support\n",
      "\n",
      "      Normal     0.9983    0.8986    0.9458     85295\n",
      "       Fraud     0.0024    0.1419    0.0048       148\n",
      "\n",
      "    accuracy                         0.8973     85443\n",
      "   macro avg     0.5004    0.5202    0.4753     85443\n",
      "weighted avg     0.9966    0.8973    0.9442     85443\n",
      "\n"
     ]
    }
   ],
   "source": [
    "# Detailed classification report for One-Class SVM\n",
    "print(classification_report(y_test, y_pred, target_names=['Normal', 'Fraud'], digits=4))"
   ]
  },
  {
   "cell_type": "code",
   "execution_count": null,
   "id": "ceae36a7",
   "metadata": {},
   "outputs": [],
   "source": [
    "# one-class SVM is too slow and not very effective for this dataset."
   ]
  },
  {
   "cell_type": "markdown",
   "id": "18da2ca5",
   "metadata": {},
   "source": [
    "<h1> 🔹 Approach 2: Use Resampling (Supervised Learning) </h1>"
   ]
  },
  {
   "cell_type": "code",
   "execution_count": null,
   "id": "0bbf64f9",
   "metadata": {},
   "outputs": [],
   "source": [
    "# Split the data into training and testing sets with stratification\n",
    "X_train, X_test, y_train, y_test = train_test_split(X, y, test_size=0.2, random_state=42, stratify=y)"
   ]
  },
  {
   "cell_type": "code",
   "execution_count": 56,
   "id": "c577616b",
   "metadata": {},
   "outputs": [],
   "source": [
    "# Define the models \n",
    "models = {\n",
    "    \"LogisticRegression\": LogisticRegression(max_iter=1000),\n",
    "\n",
    "    \"KNN\": KNeighborsClassifier(n_neighbors=5),\n",
    "\n",
    "    # RandomForest can handle imbalance via class_weight='balanced', so SMOTE is optional\n",
    "    \"RandomForest\": RandomForestClassifier(n_estimators=200, class_weight='balanced', random_state=42),\n",
    "    \n",
    "    # XGBoost can handle imbalance via scale_pos_weight, so SMOTE is optional\n",
    "    \"XGBoost\": XGBClassifier(n_estimators=200, scale_pos_weight=(np.sum(y_train==0)/np.sum(y_train==1)), use_label_encoder=False, eval_metric='logloss', random_state=42)\n",
    "}"
   ]
  },
  {
   "cell_type": "code",
   "execution_count": 49,
   "id": "dc5ca0c3",
   "metadata": {},
   "outputs": [],
   "source": [
    "# apply strafied k-fold cross-validation \n",
    "cv = StratifiedKFold(n_splits=5, shuffle=True, random_state=42)"
   ]
  },
  {
   "cell_type": "code",
   "execution_count": 57,
   "id": "e89ad0be",
   "metadata": {},
   "outputs": [
    {
     "name": "stdout",
     "output_type": "stream",
     "text": [
      "************************************************\n",
      "model LogisticRegression(max_iter=1000)\n",
      "LogisticRegression training time: 94.9704 seconds\n",
      "LogisticRegression - CV Recall (Fraud): 0.9098 ± 0.0197\n",
      "************************************************\n",
      "model KNeighborsClassifier()\n",
      "KNN training time: 135.8758 seconds\n",
      "KNN - CV Recall (Fraud): 0.5115 ± 0.0502\n",
      "************************************************\n",
      "model RandomForestClassifier(class_weight='balanced', n_estimators=200,\n",
      "                       random_state=42)\n",
      "RandomForest training time: 264.4596 seconds\n",
      "RandomForest - CV Recall (Fraud): 0.7674 ± 0.0243\n",
      "************************************************\n",
      "model XGBClassifier(base_score=None, booster=None, callbacks=None,\n",
      "              colsample_bylevel=None, colsample_bynode=None,\n",
      "              colsample_bytree=None, device=None, early_stopping_rounds=None,\n",
      "              enable_categorical=False, eval_metric='logloss',\n",
      "              feature_types=None, gamma=None, grow_policy=None,\n",
      "              importance_type=None, interaction_constraints=None,\n",
      "              learning_rate=None, max_bin=None, max_cat_threshold=None,\n",
      "              max_cat_to_onehot=None, max_delta_step=None, max_depth=None,\n",
      "              max_leaves=None, min_child_weight=None, missing=nan,\n",
      "              monotone_constraints=None, multi_strategy=None, n_estimators=200,\n",
      "              n_jobs=None, num_parallel_tree=None, random_state=42, ...)\n",
      "XGBoost training time: 11.0696 seconds\n",
      "XGBoost - CV Recall (Fraud): 0.8255 ± 0.0209\n"
     ]
    }
   ],
   "source": [
    "# Choose the best model based on cross-validation recall score for the fraud class\n",
    "for name, model in models.items():\n",
    "    print(\"************************************************\")\n",
    "    print(f\"model {model}\")\n",
    "\n",
    "    if name in [\"LogisticRegression\", \"KNN\"]:\n",
    "        # Create a pipeline with SMOTE and the model\n",
    "        pipeline = Pipeline([\n",
    "        ('smote', SMOTE(random_state=42)),\n",
    "        ('model', model)\n",
    "    ])\n",
    "            \n",
    "    else:\n",
    "        # No SMOTE for RandomForest and XGBoost\n",
    "        pipeline = Pipeline([\n",
    "            ('model', model)\n",
    "        ])\n",
    "            \n",
    "    # Cross-validation scores\n",
    "    recall_fraud_scorer = make_scorer(recall_score, pos_label=1)     # focus on recall for the fraud class only \n",
    "        \n",
    "    start_time = time.time()\n",
    "    scores = cross_val_score(pipeline, X_train, y_train, cv=cv, scoring=recall_fraud_scorer, n_jobs=-1)\n",
    "    end_time = time.time()\n",
    "\n",
    "    print(f\"{name} training time: {end_time - start_time:.4f} seconds\")\n",
    "    print(f\"{name} - CV Recall (Fraud): {np.mean(scores):.4f} ± {np.std(scores):.4f}\")\n",
    "        "
   ]
  },
  {
   "cell_type": "code",
   "execution_count": 58,
   "id": "f8702a0a",
   "metadata": {},
   "outputs": [
    {
     "name": "stdout",
     "output_type": "stream",
     "text": [
      "[[84327   968]\n",
      " [   22   126]]\n",
      "              precision    recall  f1-score   support\n",
      "\n",
      "      Normal     0.9997    0.9887    0.9942     85295\n",
      "       Fraud     0.1152    0.8514    0.2029       148\n",
      "\n",
      "    accuracy                         0.9884     85443\n",
      "   macro avg     0.5575    0.9200    0.5985     85443\n",
      "weighted avg     0.9982    0.9884    0.9928     85443\n",
      "\n"
     ]
    },
    {
     "name": "stderr",
     "output_type": "stream",
     "text": [
      "c:\\Users\\IT\\anaconda3\\envs\\AUSAM\\Lib\\site-packages\\sklearn\\linear_model\\_logistic.py:470: ConvergenceWarning: lbfgs failed to converge after 1000 iteration(s) (status=1):\n",
      "STOP: TOTAL NO. of ITERATIONS REACHED LIMIT\n",
      "\n",
      "Increase the number of iterations to improve the convergence (max_iter=1000).\n",
      "You might also want to scale the data as shown in:\n",
      "    https://scikit-learn.org/stable/modules/preprocessing.html\n",
      "Please also refer to the documentation for alternative solver options:\n",
      "    https://scikit-learn.org/stable/modules/linear_model.html#logistic-regression\n",
      "  n_iter_i = _check_optimize_result(\n"
     ]
    }
   ],
   "source": [
    "# KNN is too bad, RandomForest has low recall and is slow\n",
    "# XGBoost is good [time and recall], LogisticRegression has better recall but is slower\n",
    "# So we will test LogisticRegression and XGBoost on the test set\n",
    "\n",
    "# Fit and evaluate model_1: Logistic Regression with SMOTE\n",
    "model_1 = Pipeline([\n",
    "    ('smote', SMOTE(random_state=42)),\n",
    "    ('LogisticRegression', LogisticRegression(max_iter=1000))\n",
    "]) \n",
    "\n",
    "model_1.fit(X_train, y_train)\n",
    "y_pred = model_1.predict(X_test)\n",
    "print(confusion_matrix(y_test, y_pred))\n",
    "print(classification_report(y_test, y_pred, target_names=['Normal', 'Fraud'], digits=4))"
   ]
  },
  {
   "cell_type": "code",
   "execution_count": 60,
   "id": "5f8ba3b4",
   "metadata": {},
   "outputs": [
    {
     "name": "stdout",
     "output_type": "stream",
     "text": [
      "[[85281    14]\n",
      " [   31   117]]\n",
      "              precision    recall  f1-score   support\n",
      "\n",
      "      Normal     0.9996    0.9998    0.9997     85295\n",
      "       Fraud     0.8931    0.7905    0.8387       148\n",
      "\n",
      "    accuracy                         0.9995     85443\n",
      "   macro avg     0.9464    0.8952    0.9192     85443\n",
      "weighted avg     0.9995    0.9995    0.9995     85443\n",
      "\n"
     ]
    }
   ],
   "source": [
    "# Fit and evaluate model_2: XGBoost\n",
    "model_2 = XGBClassifier(n_estimators=200, scale_pos_weight=(np.sum(y_train==0)/np.sum(y_train==1)), eval_metric='logloss', random_state=42)\n",
    "model_2.fit(X_train, y_train)\n",
    "y_pred = model_2.predict(X_test)\n",
    "print(confusion_matrix(y_test, y_pred))\n",
    "print(classification_report(y_test, y_pred, target_names=['Normal', 'Fraud'], digits=4))"
   ]
  },
  {
   "cell_type": "code",
   "execution_count": null,
   "id": "745a8e3f",
   "metadata": {},
   "outputs": [],
   "source": []
  },
  {
   "cell_type": "markdown",
   "id": "7a3a783a",
   "metadata": {},
   "source": [
    "\n",
    "# Fraud Detection Approaches – Summary\n",
    "\n",
    "We experimented with **two different approaches** to tackle the imbalanced fraud detection problem:\n",
    "\n",
    "---\n",
    "\n",
    "## **Approach 1: Anomaly Detection**\n",
    "\n",
    "* **Model Used:** Isolation Forest\n",
    "* **Key Points:**\n",
    "\n",
    "  * Treated fraud cases as **anomalies**.\n",
    "  * Trained only on the **normal class**.\n",
    "* **Performance:**\n",
    "\n",
    "  * **Recall (Fraud):** 0.85 ✅\n",
    "  * **Training Time:** \\~5 seconds ⏱\n",
    "* **Remarks:**\n",
    "\n",
    "  * Fast training and good recall, making it suitable for **real-time anomaly detection** scenarios.\n",
    "\n",
    "---\n",
    "\n",
    "## **Approach 2: Classification with Oversampling**\n",
    "\n",
    "* **Models Tested:** Logistic Regression, XGBoost, Random Forest, KNN, etc.\n",
    "\n",
    "* **Key Techniques:**\n",
    "\n",
    "  * Used **SMOTE** to increase the minority class (fraud) in training.\n",
    "  * Evaluated models using **cross-validation focusing on recall for fraud**.\n",
    "\n",
    "* **Best Models:**\n",
    "\n",
    "| Model               | Recall (Fraud) | Training Time | Notes                                                                    |\n",
    "| ------------------- | -------------- | ------------- | ------------------------------------------------------------------------ |\n",
    "| Logistic Regression | 0.85           | \\~30 seconds  | SMOTE applied; high recall; slower due to oversampling                   |\n",
    "| XGBoost             | 0.79           | \\~2.5 seconds | No SMOTE needed; handles imbalance via `scale_pos_weight`; fast training |\n",
    "\n",
    "* **Remarks:**\n",
    "\n",
    "  * Logistic Regression achieved the **highest recall** but took longer to train due to SMOTE.\n",
    "  * XGBoost was **faster**, still with good recall, suitable when **training speed is important**.\n",
    "\n",
    "---\n",
    "\n",
    "### ✅ **Conclusion**\n",
    "\n",
    "* **Anomaly detection (Isolation Forest)** is **fast** and gives **good recall** without oversampling.\n",
    "* **Classification with SMOTE** allows more **control over minority class detection**, but may increase training time.\n",
    "* Choice depends on **trade-off between speed and flexibility**:\n",
    "\n",
    "  * **Real-time monitoring:** Isolation Forest\n",
    "  * **Thorough offline analysis with higher recall tuning:** Logistic Regression with SMOTE"
   ]
  },
  {
   "cell_type": "markdown",
   "id": "a2dca492",
   "metadata": {},
   "source": []
  }
 ],
 "metadata": {
  "kernelspec": {
   "display_name": "AUSAM",
   "language": "python",
   "name": "python3"
  },
  "language_info": {
   "codemirror_mode": {
    "name": "ipython",
    "version": 3
   },
   "file_extension": ".py",
   "mimetype": "text/x-python",
   "name": "python",
   "nbconvert_exporter": "python",
   "pygments_lexer": "ipython3",
   "version": "3.12.5"
  }
 },
 "nbformat": 4,
 "nbformat_minor": 5
}
